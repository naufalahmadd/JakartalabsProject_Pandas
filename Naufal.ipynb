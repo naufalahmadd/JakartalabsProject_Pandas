{
 "cells": [
  {
   "cell_type": "markdown",
   "metadata": {},
   "source": [
    "# QUESTIONS:\n",
    "1. What is the total sales for the last month?\n",
    "2. What is the average sales across all stores?\n",
    "3. What is the sales on March 13, 2016?\n",
    "4. When is worst week of Store C?\n",
    "5. How much are the total sales from the most recent 3 months?"
   ]
  },
  {
   "cell_type": "markdown",
   "metadata": {},
   "source": [
    "## <span style=\"color:red\">Question 1</span>: What is the total sales for the last month?"
   ]
  },
  {
   "cell_type": "markdown",
   "metadata": {},
   "source": [
    "1. Import the packages needed\n",
    "2. Import 'store_data.csv'\n",
    "3. Get a glimpse of the dataset\n",
    "4. Declare 'week' column as 'datetime'\n",
    "5. Create 'month' column\n",
    "6. Group sales of each store by month\n",
    "6. Calculate sum of all sales for each month\n",
    "7. `Find the total sales for the last month on the last row`"
   ]
  },
  {
   "cell_type": "markdown",
   "metadata": {},
   "source": [
    "### importing packages"
   ]
  },
  {
   "cell_type": "code",
   "execution_count": 51,
   "metadata": {},
   "outputs": [],
   "source": [
    "import pandas as pd\n",
    "import matplotlib.pyplot as plt\n",
    "import seaborn as sns\n",
    "import datetime as dt\n",
    "from pandas.plotting import register_matplotlib_converters\n",
    "register_matplotlib_converters()"
   ]
  },
  {
   "cell_type": "markdown",
   "metadata": {},
   "source": [
    "### importing dataset"
   ]
  },
  {
   "cell_type": "code",
   "execution_count": 3,
   "metadata": {},
   "outputs": [],
   "source": [
    "df = pd.read_csv('store_data.csv')"
   ]
  },
  {
   "cell_type": "code",
   "execution_count": 4,
   "metadata": {},
   "outputs": [
    {
     "output_type": "execute_result",
     "data": {
      "text/plain": "         week  storeA  storeB  storeC  storeD  storeE\n0  2014-05-04    2643    8257    3893    6231    1294\n1  2014-05-11    6444    5736    5634    7092    2907\n2  2014-05-18    9646    2552    4253    5447    4736\n3  2014-05-25    5960   10740    8264    6063     949\n4  2014-06-01    7412    7374    3208    3985    3023",
      "text/html": "<div>\n<style scoped>\n    .dataframe tbody tr th:only-of-type {\n        vertical-align: middle;\n    }\n\n    .dataframe tbody tr th {\n        vertical-align: top;\n    }\n\n    .dataframe thead th {\n        text-align: right;\n    }\n</style>\n<table border=\"1\" class=\"dataframe\">\n  <thead>\n    <tr style=\"text-align: right;\">\n      <th></th>\n      <th>week</th>\n      <th>storeA</th>\n      <th>storeB</th>\n      <th>storeC</th>\n      <th>storeD</th>\n      <th>storeE</th>\n    </tr>\n  </thead>\n  <tbody>\n    <tr>\n      <th>0</th>\n      <td>2014-05-04</td>\n      <td>2643</td>\n      <td>8257</td>\n      <td>3893</td>\n      <td>6231</td>\n      <td>1294</td>\n    </tr>\n    <tr>\n      <th>1</th>\n      <td>2014-05-11</td>\n      <td>6444</td>\n      <td>5736</td>\n      <td>5634</td>\n      <td>7092</td>\n      <td>2907</td>\n    </tr>\n    <tr>\n      <th>2</th>\n      <td>2014-05-18</td>\n      <td>9646</td>\n      <td>2552</td>\n      <td>4253</td>\n      <td>5447</td>\n      <td>4736</td>\n    </tr>\n    <tr>\n      <th>3</th>\n      <td>2014-05-25</td>\n      <td>5960</td>\n      <td>10740</td>\n      <td>8264</td>\n      <td>6063</td>\n      <td>949</td>\n    </tr>\n    <tr>\n      <th>4</th>\n      <td>2014-06-01</td>\n      <td>7412</td>\n      <td>7374</td>\n      <td>3208</td>\n      <td>3985</td>\n      <td>3023</td>\n    </tr>\n  </tbody>\n</table>\n</div>"
     },
     "metadata": {},
     "execution_count": 4
    }
   ],
   "source": [
    "# get a glimpse of the dataset\n",
    "df.head()"
   ]
  },
  {
   "cell_type": "markdown",
   "metadata": {},
   "source": [
    "### declare 'week' as datetime"
   ]
  },
  {
   "cell_type": "code",
   "execution_count": 5,
   "metadata": {},
   "outputs": [
    {
     "output_type": "execute_result",
     "data": {
      "text/plain": "         week  storeA  storeB  storeC  storeD  storeE\n0  2014-05-04    2643    8257    3893    6231    1294\n1  2014-05-11    6444    5736    5634    7092    2907\n2  2014-05-18    9646    2552    4253    5447    4736\n3  2014-05-25    5960   10740    8264    6063     949\n4  2014-06-01    7412    7374    3208    3985    3023",
      "text/html": "<div>\n<style scoped>\n    .dataframe tbody tr th:only-of-type {\n        vertical-align: middle;\n    }\n\n    .dataframe tbody tr th {\n        vertical-align: top;\n    }\n\n    .dataframe thead th {\n        text-align: right;\n    }\n</style>\n<table border=\"1\" class=\"dataframe\">\n  <thead>\n    <tr style=\"text-align: right;\">\n      <th></th>\n      <th>week</th>\n      <th>storeA</th>\n      <th>storeB</th>\n      <th>storeC</th>\n      <th>storeD</th>\n      <th>storeE</th>\n    </tr>\n  </thead>\n  <tbody>\n    <tr>\n      <th>0</th>\n      <td>2014-05-04</td>\n      <td>2643</td>\n      <td>8257</td>\n      <td>3893</td>\n      <td>6231</td>\n      <td>1294</td>\n    </tr>\n    <tr>\n      <th>1</th>\n      <td>2014-05-11</td>\n      <td>6444</td>\n      <td>5736</td>\n      <td>5634</td>\n      <td>7092</td>\n      <td>2907</td>\n    </tr>\n    <tr>\n      <th>2</th>\n      <td>2014-05-18</td>\n      <td>9646</td>\n      <td>2552</td>\n      <td>4253</td>\n      <td>5447</td>\n      <td>4736</td>\n    </tr>\n    <tr>\n      <th>3</th>\n      <td>2014-05-25</td>\n      <td>5960</td>\n      <td>10740</td>\n      <td>8264</td>\n      <td>6063</td>\n      <td>949</td>\n    </tr>\n    <tr>\n      <th>4</th>\n      <td>2014-06-01</td>\n      <td>7412</td>\n      <td>7374</td>\n      <td>3208</td>\n      <td>3985</td>\n      <td>3023</td>\n    </tr>\n  </tbody>\n</table>\n</div>"
     },
     "metadata": {},
     "execution_count": 5
    }
   ],
   "source": [
    "# membuat copy dari df dengan nama df_month\n",
    "df_copy = df.copy()\n",
    "df_copy.head()"
   ]
  },
  {
   "cell_type": "code",
   "execution_count": 6,
   "metadata": {},
   "outputs": [
    {
     "output_type": "stream",
     "name": "stdout",
     "text": "<class 'pandas.core.frame.DataFrame'>\nRangeIndex: 200 entries, 0 to 199\nData columns (total 6 columns):\nweek      200 non-null object\nstoreA    200 non-null int64\nstoreB    200 non-null int64\nstoreC    200 non-null int64\nstoreD    200 non-null int64\nstoreE    200 non-null int64\ndtypes: int64(5), object(1)\nmemory usage: 9.5+ KB\n"
    }
   ],
   "source": [
    "df_copy.info()"
   ]
  },
  {
   "cell_type": "code",
   "execution_count": 169,
   "metadata": {},
   "outputs": [],
   "source": [
    "# declare week sebagai datetime\n",
    "df_copy['week'] = pd.to_datetime(df_copy['week'], format='%Y-%m-%W')"
   ]
  },
  {
   "cell_type": "code",
   "execution_count": 8,
   "metadata": {},
   "outputs": [
    {
     "output_type": "stream",
     "name": "stdout",
     "text": "<class 'pandas.core.frame.DataFrame'>\nRangeIndex: 200 entries, 0 to 199\nData columns (total 6 columns):\nweek      200 non-null datetime64[ns]\nstoreA    200 non-null int64\nstoreB    200 non-null int64\nstoreC    200 non-null int64\nstoreD    200 non-null int64\nstoreE    200 non-null int64\ndtypes: datetime64[ns](1), int64(5)\nmemory usage: 9.5 KB\n"
    }
   ],
   "source": [
    "# melihat apakah kolom 'week' sudah menjadi datetime\n",
    "df_copy.info()"
   ]
  },
  {
   "cell_type": "markdown",
   "metadata": {},
   "source": [
    "### create 'month' column"
   ]
  },
  {
   "cell_type": "code",
   "execution_count": 9,
   "metadata": {},
   "outputs": [],
   "source": [
    "# membuat kolom baru dengan nama 'month', mengganti formatnya menjadi yyyy-mm\n",
    "df_copy['month'] = pd.to_datetime(df_copy['week']).dt.to_period('M')"
   ]
  },
  {
   "cell_type": "code",
   "execution_count": 10,
   "metadata": {},
   "outputs": [
    {
     "output_type": "stream",
     "name": "stdout",
     "text": "<class 'pandas.core.frame.DataFrame'>\nRangeIndex: 200 entries, 0 to 199\nData columns (total 7 columns):\nweek      200 non-null datetime64[ns]\nstoreA    200 non-null int64\nstoreB    200 non-null int64\nstoreC    200 non-null int64\nstoreD    200 non-null int64\nstoreE    200 non-null int64\nmonth     200 non-null period[M]\ndtypes: datetime64[ns](1), int64(5), period[M](1)\nmemory usage: 11.1 KB\n"
    }
   ],
   "source": [
    "df_copy.info()"
   ]
  },
  {
   "cell_type": "code",
   "execution_count": 11,
   "metadata": {},
   "outputs": [
    {
     "output_type": "execute_result",
     "data": {
      "text/plain": "        week  storeA  storeB  storeC  storeD  storeE    month\n0 2014-05-04    2643    8257    3893    6231    1294  2014-05\n1 2014-05-11    6444    5736    5634    7092    2907  2014-05\n2 2014-05-18    9646    2552    4253    5447    4736  2014-05\n3 2014-05-25    5960   10740    8264    6063     949  2014-05\n4 2014-06-01    7412    7374    3208    3985    3023  2014-06",
      "text/html": "<div>\n<style scoped>\n    .dataframe tbody tr th:only-of-type {\n        vertical-align: middle;\n    }\n\n    .dataframe tbody tr th {\n        vertical-align: top;\n    }\n\n    .dataframe thead th {\n        text-align: right;\n    }\n</style>\n<table border=\"1\" class=\"dataframe\">\n  <thead>\n    <tr style=\"text-align: right;\">\n      <th></th>\n      <th>week</th>\n      <th>storeA</th>\n      <th>storeB</th>\n      <th>storeC</th>\n      <th>storeD</th>\n      <th>storeE</th>\n      <th>month</th>\n    </tr>\n  </thead>\n  <tbody>\n    <tr>\n      <th>0</th>\n      <td>2014-05-04</td>\n      <td>2643</td>\n      <td>8257</td>\n      <td>3893</td>\n      <td>6231</td>\n      <td>1294</td>\n      <td>2014-05</td>\n    </tr>\n    <tr>\n      <th>1</th>\n      <td>2014-05-11</td>\n      <td>6444</td>\n      <td>5736</td>\n      <td>5634</td>\n      <td>7092</td>\n      <td>2907</td>\n      <td>2014-05</td>\n    </tr>\n    <tr>\n      <th>2</th>\n      <td>2014-05-18</td>\n      <td>9646</td>\n      <td>2552</td>\n      <td>4253</td>\n      <td>5447</td>\n      <td>4736</td>\n      <td>2014-05</td>\n    </tr>\n    <tr>\n      <th>3</th>\n      <td>2014-05-25</td>\n      <td>5960</td>\n      <td>10740</td>\n      <td>8264</td>\n      <td>6063</td>\n      <td>949</td>\n      <td>2014-05</td>\n    </tr>\n    <tr>\n      <th>4</th>\n      <td>2014-06-01</td>\n      <td>7412</td>\n      <td>7374</td>\n      <td>3208</td>\n      <td>3985</td>\n      <td>3023</td>\n      <td>2014-06</td>\n    </tr>\n  </tbody>\n</table>\n</div>"
     },
     "metadata": {},
     "execution_count": 11
    }
   ],
   "source": [
    "df_copy.head()"
   ]
  },
  {
   "cell_type": "markdown",
   "metadata": {},
   "source": [
    "### group dataset based on monthly sales"
   ]
  },
  {
   "cell_type": "code",
   "execution_count": 12,
   "metadata": {},
   "outputs": [
    {
     "output_type": "execute_result",
     "data": {
      "text/plain": "         storeA  storeB  storeC  storeD  storeE\nmonth                                          \n2017-10   32299   44731   20535   27545    9435\n2017-11   29748   27601   21520   25219    6914\n2017-12   40688   29151   30198   28422    8509\n2018-01   21776   25648   19893   23985   11038\n2018-02   25127   24595   16447   22783    7787",
      "text/html": "<div>\n<style scoped>\n    .dataframe tbody tr th:only-of-type {\n        vertical-align: middle;\n    }\n\n    .dataframe tbody tr th {\n        vertical-align: top;\n    }\n\n    .dataframe thead th {\n        text-align: right;\n    }\n</style>\n<table border=\"1\" class=\"dataframe\">\n  <thead>\n    <tr style=\"text-align: right;\">\n      <th></th>\n      <th>storeA</th>\n      <th>storeB</th>\n      <th>storeC</th>\n      <th>storeD</th>\n      <th>storeE</th>\n    </tr>\n    <tr>\n      <th>month</th>\n      <th></th>\n      <th></th>\n      <th></th>\n      <th></th>\n      <th></th>\n    </tr>\n  </thead>\n  <tbody>\n    <tr>\n      <th>2017-10</th>\n      <td>32299</td>\n      <td>44731</td>\n      <td>20535</td>\n      <td>27545</td>\n      <td>9435</td>\n    </tr>\n    <tr>\n      <th>2017-11</th>\n      <td>29748</td>\n      <td>27601</td>\n      <td>21520</td>\n      <td>25219</td>\n      <td>6914</td>\n    </tr>\n    <tr>\n      <th>2017-12</th>\n      <td>40688</td>\n      <td>29151</td>\n      <td>30198</td>\n      <td>28422</td>\n      <td>8509</td>\n    </tr>\n    <tr>\n      <th>2018-01</th>\n      <td>21776</td>\n      <td>25648</td>\n      <td>19893</td>\n      <td>23985</td>\n      <td>11038</td>\n    </tr>\n    <tr>\n      <th>2018-02</th>\n      <td>25127</td>\n      <td>24595</td>\n      <td>16447</td>\n      <td>22783</td>\n      <td>7787</td>\n    </tr>\n  </tbody>\n</table>\n</div>"
     },
     "metadata": {},
     "execution_count": 12
    }
   ],
   "source": [
    "monthly_sales = df_copy.groupby('month').sum()\n",
    "monthly_sales.tail()"
   ]
  },
  {
   "cell_type": "markdown",
   "metadata": {},
   "source": [
    "### find total sales"
   ]
  },
  {
   "cell_type": "code",
   "execution_count": 13,
   "metadata": {},
   "outputs": [],
   "source": [
    "# untuk mendapatkan total sales:\n",
    "totalsales = monthly_sales.iloc[:, 0:5].sum(axis = 1)\n",
    "monthly_sales['total_sales'] = totalsales"
   ]
  },
  {
   "cell_type": "code",
   "execution_count": 14,
   "metadata": {},
   "outputs": [
    {
     "output_type": "execute_result",
     "data": {
      "text/plain": "         storeA  storeB  storeC  storeD  storeE  total_sales\nmonth                                                       \n2018-02   25127   24595   16447   22783    7787        96739",
      "text/html": "<div>\n<style scoped>\n    .dataframe tbody tr th:only-of-type {\n        vertical-align: middle;\n    }\n\n    .dataframe tbody tr th {\n        vertical-align: top;\n    }\n\n    .dataframe thead th {\n        text-align: right;\n    }\n</style>\n<table border=\"1\" class=\"dataframe\">\n  <thead>\n    <tr style=\"text-align: right;\">\n      <th></th>\n      <th>storeA</th>\n      <th>storeB</th>\n      <th>storeC</th>\n      <th>storeD</th>\n      <th>storeE</th>\n      <th>total_sales</th>\n    </tr>\n    <tr>\n      <th>month</th>\n      <th></th>\n      <th></th>\n      <th></th>\n      <th></th>\n      <th></th>\n      <th></th>\n    </tr>\n  </thead>\n  <tbody>\n    <tr>\n      <th>2018-02</th>\n      <td>25127</td>\n      <td>24595</td>\n      <td>16447</td>\n      <td>22783</td>\n      <td>7787</td>\n      <td>96739</td>\n    </tr>\n  </tbody>\n</table>\n</div>"
     },
     "metadata": {},
     "execution_count": 14
    }
   ],
   "source": [
    "# melihat bulan penjualan terakhir\n",
    "monthly_sales.tail(1)"
   ]
  },
  {
   "cell_type": "code",
   "execution_count": 15,
   "metadata": {
    "scrolled": true
   },
   "outputs": [
    {
     "output_type": "execute_result",
     "data": {
      "text/plain": "96739"
     },
     "metadata": {},
     "execution_count": 15
    }
   ],
   "source": [
    "# OR\n",
    "last_month_sales = monthly_sales.iloc[-1, 0:5].sum()\n",
    "last_month_sales"
   ]
  },
  {
   "cell_type": "code",
   "execution_count": 16,
   "metadata": {},
   "outputs": [
    {
     "output_type": "stream",
     "name": "stdout",
     "text": "\u001b[1mANSWER:\u001b[0mThe total sales of the last month is \u001b[1m96739\u001b[0m sales.\n"
    }
   ],
   "source": [
    "print(\n",
    "    (\"\\033[1m\" + \"ANSWER:\" + \"\\033[0m\") \n",
    "    + \"The total sales of the last month is \" \n",
    "    + (\"\\033[1m\" + str(last_month_sales) + \"\\033[0m\") + \n",
    "    \" sales.\")"
   ]
  },
  {
   "cell_type": "markdown",
   "metadata": {},
   "source": [
    "## <span style='color:red'>Question 2</span>: What is the average sales across all stores?"
   ]
  },
  {
   "cell_type": "markdown",
   "metadata": {},
   "source": [
    "1. get a glimpse of the dataset\n",
    "2. `calculate average sales of each store, put in 'average_sales'`|"
   ]
  },
  {
   "cell_type": "code",
   "execution_count": 17,
   "metadata": {},
   "outputs": [
    {
     "output_type": "execute_result",
     "data": {
      "text/plain": "        week  storeA  storeB  storeC  storeD  storeE    month\n0 2014-05-04    2643    8257    3893    6231    1294  2014-05\n1 2014-05-11    6444    5736    5634    7092    2907  2014-05\n2 2014-05-18    9646    2552    4253    5447    4736  2014-05\n3 2014-05-25    5960   10740    8264    6063     949  2014-05\n4 2014-06-01    7412    7374    3208    3985    3023  2014-06",
      "text/html": "<div>\n<style scoped>\n    .dataframe tbody tr th:only-of-type {\n        vertical-align: middle;\n    }\n\n    .dataframe tbody tr th {\n        vertical-align: top;\n    }\n\n    .dataframe thead th {\n        text-align: right;\n    }\n</style>\n<table border=\"1\" class=\"dataframe\">\n  <thead>\n    <tr style=\"text-align: right;\">\n      <th></th>\n      <th>week</th>\n      <th>storeA</th>\n      <th>storeB</th>\n      <th>storeC</th>\n      <th>storeD</th>\n      <th>storeE</th>\n      <th>month</th>\n    </tr>\n  </thead>\n  <tbody>\n    <tr>\n      <th>0</th>\n      <td>2014-05-04</td>\n      <td>2643</td>\n      <td>8257</td>\n      <td>3893</td>\n      <td>6231</td>\n      <td>1294</td>\n      <td>2014-05</td>\n    </tr>\n    <tr>\n      <th>1</th>\n      <td>2014-05-11</td>\n      <td>6444</td>\n      <td>5736</td>\n      <td>5634</td>\n      <td>7092</td>\n      <td>2907</td>\n      <td>2014-05</td>\n    </tr>\n    <tr>\n      <th>2</th>\n      <td>2014-05-18</td>\n      <td>9646</td>\n      <td>2552</td>\n      <td>4253</td>\n      <td>5447</td>\n      <td>4736</td>\n      <td>2014-05</td>\n    </tr>\n    <tr>\n      <th>3</th>\n      <td>2014-05-25</td>\n      <td>5960</td>\n      <td>10740</td>\n      <td>8264</td>\n      <td>6063</td>\n      <td>949</td>\n      <td>2014-05</td>\n    </tr>\n    <tr>\n      <th>4</th>\n      <td>2014-06-01</td>\n      <td>7412</td>\n      <td>7374</td>\n      <td>3208</td>\n      <td>3985</td>\n      <td>3023</td>\n      <td>2014-06</td>\n    </tr>\n  </tbody>\n</table>\n</div>"
     },
     "metadata": {},
     "execution_count": 17
    }
   ],
   "source": [
    "df_copy.head()"
   ]
  },
  {
   "cell_type": "code",
   "execution_count": 18,
   "metadata": {
    "scrolled": false
   },
   "outputs": [
    {
     "output_type": "execute_result",
     "data": {
      "text/plain": "storeA    5865.480\nstoreB    6756.710\nstoreC    4942.105\nstoreD    5431.405\nstoreE    2580.025\ndtype: float64"
     },
     "metadata": {},
     "execution_count": 18
    }
   ],
   "source": [
    "average_each_sales = df_copy.iloc[:, 1:6].mean(axis = 0)\n",
    "average_each_sales"
   ]
  },
  {
   "cell_type": "code",
   "execution_count": 19,
   "metadata": {},
   "outputs": [
    {
     "output_type": "stream",
     "name": "stdout",
     "text": "5115.1449999999995\n"
    }
   ],
   "source": [
    "average_sales = average_each_sales.mean()\n",
    "print(average_sales)"
   ]
  },
  {
   "cell_type": "code",
   "execution_count": 20,
   "metadata": {},
   "outputs": [
    {
     "output_type": "stream",
     "name": "stdout",
     "text": "\u001b[1mANSWER:\u001b[0mThe average sales accross all stores is \u001b[1m5115.14\u001b[0m sales\n"
    }
   ],
   "source": [
    "print(\n",
    "    (\"\\033[1m\" + \"ANSWER:\" + \"\\033[0m\") \n",
    "    + \"The average sales accross all stores is \" \n",
    "    + (\"\\033[1m\" + '%.2f'%average_sales + \"\\033[0m\") \n",
    "    + \" sales\")"
   ]
  },
  {
   "cell_type": "markdown",
   "metadata": {},
   "source": [
    "## <span style='color:red'>Question 3</span>: What is the sales on March 13, 2016?"
   ]
  },
  {
   "cell_type": "markdown",
   "metadata": {},
   "source": [
    "1. locate 2016-03-13\n",
    "2. `calculate total sales`"
   ]
  },
  {
   "cell_type": "code",
   "execution_count": 21,
   "metadata": {},
   "outputs": [
    {
     "output_type": "execute_result",
     "data": {
      "text/plain": "        week  storeA  storeB  storeC  storeD  storeE    month\n0 2014-05-04    2643    8257    3893    6231    1294  2014-05\n1 2014-05-11    6444    5736    5634    7092    2907  2014-05\n2 2014-05-18    9646    2552    4253    5447    4736  2014-05\n3 2014-05-25    5960   10740    8264    6063     949  2014-05\n4 2014-06-01    7412    7374    3208    3985    3023  2014-06",
      "text/html": "<div>\n<style scoped>\n    .dataframe tbody tr th:only-of-type {\n        vertical-align: middle;\n    }\n\n    .dataframe tbody tr th {\n        vertical-align: top;\n    }\n\n    .dataframe thead th {\n        text-align: right;\n    }\n</style>\n<table border=\"1\" class=\"dataframe\">\n  <thead>\n    <tr style=\"text-align: right;\">\n      <th></th>\n      <th>week</th>\n      <th>storeA</th>\n      <th>storeB</th>\n      <th>storeC</th>\n      <th>storeD</th>\n      <th>storeE</th>\n      <th>month</th>\n    </tr>\n  </thead>\n  <tbody>\n    <tr>\n      <th>0</th>\n      <td>2014-05-04</td>\n      <td>2643</td>\n      <td>8257</td>\n      <td>3893</td>\n      <td>6231</td>\n      <td>1294</td>\n      <td>2014-05</td>\n    </tr>\n    <tr>\n      <th>1</th>\n      <td>2014-05-11</td>\n      <td>6444</td>\n      <td>5736</td>\n      <td>5634</td>\n      <td>7092</td>\n      <td>2907</td>\n      <td>2014-05</td>\n    </tr>\n    <tr>\n      <th>2</th>\n      <td>2014-05-18</td>\n      <td>9646</td>\n      <td>2552</td>\n      <td>4253</td>\n      <td>5447</td>\n      <td>4736</td>\n      <td>2014-05</td>\n    </tr>\n    <tr>\n      <th>3</th>\n      <td>2014-05-25</td>\n      <td>5960</td>\n      <td>10740</td>\n      <td>8264</td>\n      <td>6063</td>\n      <td>949</td>\n      <td>2014-05</td>\n    </tr>\n    <tr>\n      <th>4</th>\n      <td>2014-06-01</td>\n      <td>7412</td>\n      <td>7374</td>\n      <td>3208</td>\n      <td>3985</td>\n      <td>3023</td>\n      <td>2014-06</td>\n    </tr>\n  </tbody>\n</table>\n</div>"
     },
     "metadata": {},
     "execution_count": 21
    }
   ],
   "source": [
    "df_copy.head()"
   ]
  },
  {
   "cell_type": "code",
   "execution_count": 22,
   "metadata": {},
   "outputs": [
    {
     "output_type": "execute_result",
     "data": {
      "text/plain": "            storeA  storeB  storeC  storeD  storeE    month\nweek                                                       \n2014-05-04    2643    8257    3893    6231    1294  2014-05\n2014-05-11    6444    5736    5634    7092    2907  2014-05\n2014-05-18    9646    2552    4253    5447    4736  2014-05\n2014-05-25    5960   10740    8264    6063     949  2014-05\n2014-06-01    7412    7374    3208    3985    3023  2014-06",
      "text/html": "<div>\n<style scoped>\n    .dataframe tbody tr th:only-of-type {\n        vertical-align: middle;\n    }\n\n    .dataframe tbody tr th {\n        vertical-align: top;\n    }\n\n    .dataframe thead th {\n        text-align: right;\n    }\n</style>\n<table border=\"1\" class=\"dataframe\">\n  <thead>\n    <tr style=\"text-align: right;\">\n      <th></th>\n      <th>storeA</th>\n      <th>storeB</th>\n      <th>storeC</th>\n      <th>storeD</th>\n      <th>storeE</th>\n      <th>month</th>\n    </tr>\n    <tr>\n      <th>week</th>\n      <th></th>\n      <th></th>\n      <th></th>\n      <th></th>\n      <th></th>\n      <th></th>\n    </tr>\n  </thead>\n  <tbody>\n    <tr>\n      <th>2014-05-04</th>\n      <td>2643</td>\n      <td>8257</td>\n      <td>3893</td>\n      <td>6231</td>\n      <td>1294</td>\n      <td>2014-05</td>\n    </tr>\n    <tr>\n      <th>2014-05-11</th>\n      <td>6444</td>\n      <td>5736</td>\n      <td>5634</td>\n      <td>7092</td>\n      <td>2907</td>\n      <td>2014-05</td>\n    </tr>\n    <tr>\n      <th>2014-05-18</th>\n      <td>9646</td>\n      <td>2552</td>\n      <td>4253</td>\n      <td>5447</td>\n      <td>4736</td>\n      <td>2014-05</td>\n    </tr>\n    <tr>\n      <th>2014-05-25</th>\n      <td>5960</td>\n      <td>10740</td>\n      <td>8264</td>\n      <td>6063</td>\n      <td>949</td>\n      <td>2014-05</td>\n    </tr>\n    <tr>\n      <th>2014-06-01</th>\n      <td>7412</td>\n      <td>7374</td>\n      <td>3208</td>\n      <td>3985</td>\n      <td>3023</td>\n      <td>2014-06</td>\n    </tr>\n  </tbody>\n</table>\n</div>"
     },
     "metadata": {},
     "execution_count": 22
    }
   ],
   "source": [
    "df_index = df_copy.set_index('week')\n",
    "df_index.head()"
   ]
  },
  {
   "cell_type": "code",
   "execution_count": 23,
   "metadata": {},
   "outputs": [
    {
     "output_type": "execute_result",
     "data": {
      "text/plain": "            storeA  storeB  storeC  storeD  storeE    month  total_sales\nweek                                                                    \n2014-05-04    2643    8257    3893    6231    1294  2014-05        22318\n2014-05-11    6444    5736    5634    7092    2907  2014-05        27813\n2014-05-18    9646    2552    4253    5447    4736  2014-05        26634\n2014-05-25    5960   10740    8264    6063     949  2014-05        31976\n2014-06-01    7412    7374    3208    3985    3023  2014-06        25002",
      "text/html": "<div>\n<style scoped>\n    .dataframe tbody tr th:only-of-type {\n        vertical-align: middle;\n    }\n\n    .dataframe tbody tr th {\n        vertical-align: top;\n    }\n\n    .dataframe thead th {\n        text-align: right;\n    }\n</style>\n<table border=\"1\" class=\"dataframe\">\n  <thead>\n    <tr style=\"text-align: right;\">\n      <th></th>\n      <th>storeA</th>\n      <th>storeB</th>\n      <th>storeC</th>\n      <th>storeD</th>\n      <th>storeE</th>\n      <th>month</th>\n      <th>total_sales</th>\n    </tr>\n    <tr>\n      <th>week</th>\n      <th></th>\n      <th></th>\n      <th></th>\n      <th></th>\n      <th></th>\n      <th></th>\n      <th></th>\n    </tr>\n  </thead>\n  <tbody>\n    <tr>\n      <th>2014-05-04</th>\n      <td>2643</td>\n      <td>8257</td>\n      <td>3893</td>\n      <td>6231</td>\n      <td>1294</td>\n      <td>2014-05</td>\n      <td>22318</td>\n    </tr>\n    <tr>\n      <th>2014-05-11</th>\n      <td>6444</td>\n      <td>5736</td>\n      <td>5634</td>\n      <td>7092</td>\n      <td>2907</td>\n      <td>2014-05</td>\n      <td>27813</td>\n    </tr>\n    <tr>\n      <th>2014-05-18</th>\n      <td>9646</td>\n      <td>2552</td>\n      <td>4253</td>\n      <td>5447</td>\n      <td>4736</td>\n      <td>2014-05</td>\n      <td>26634</td>\n    </tr>\n    <tr>\n      <th>2014-05-25</th>\n      <td>5960</td>\n      <td>10740</td>\n      <td>8264</td>\n      <td>6063</td>\n      <td>949</td>\n      <td>2014-05</td>\n      <td>31976</td>\n    </tr>\n    <tr>\n      <th>2014-06-01</th>\n      <td>7412</td>\n      <td>7374</td>\n      <td>3208</td>\n      <td>3985</td>\n      <td>3023</td>\n      <td>2014-06</td>\n      <td>25002</td>\n    </tr>\n  </tbody>\n</table>\n</div>"
     },
     "metadata": {},
     "execution_count": 23
    }
   ],
   "source": [
    "totalsales = df_index.iloc[:, 0:5].sum(axis = 1)\n",
    "df_index['total_sales'] = totalsales\n",
    "df_index.head()"
   ]
  },
  {
   "cell_type": "code",
   "execution_count": 24,
   "metadata": {},
   "outputs": [
    {
     "output_type": "execute_result",
     "data": {
      "text/plain": "16605"
     },
     "metadata": {},
     "execution_count": 24
    }
   ],
   "source": [
    "df_index.loc['2016-03-13', 'total_sales']"
   ]
  },
  {
   "cell_type": "code",
   "execution_count": 25,
   "metadata": {},
   "outputs": [
    {
     "output_type": "execute_result",
     "data": {
      "text/plain": "16605"
     },
     "metadata": {},
     "execution_count": 25
    }
   ],
   "source": [
    "# OR\n",
    "sales_20160313 = df_index.loc['2016-03-13', 'storeA':'storeE'].sum(axis=0)\n",
    "sales_20160313"
   ]
  },
  {
   "cell_type": "code",
   "execution_count": 26,
   "metadata": {},
   "outputs": [
    {
     "output_type": "stream",
     "name": "stdout",
     "text": "\u001b[1mANSWER:\u001b[0mSales on March 13, 2016 is \u001b[1m16605\u001b[0m sales\n"
    }
   ],
   "source": [
    "print(\n",
    "    (\"\\033[1m\" + \"ANSWER:\" + \"\\033[0m\") \n",
    "    + \"Sales on March 13, 2016 is \" \n",
    "    + (\"\\033[1m\" + str(sales_20160313) + \"\\033[0m\") \n",
    "    + \" sales\")"
   ]
  },
  {
   "cell_type": "markdown",
   "metadata": {},
   "source": [
    "## <span style='color:red'>Question 4</span>: When is worst week of Store C?"
   ]
  },
  {
   "cell_type": "markdown",
   "metadata": {},
   "source": [
    "1. Define 'worst week.' Worst week means least sales\n",
    "2. Get a quick look using line graph\n",
    "3. `Find the worst week in store C`"
   ]
  },
  {
   "cell_type": "code",
   "execution_count": 27,
   "metadata": {
    "scrolled": true
   },
   "outputs": [
    {
     "output_type": "execute_result",
     "data": {
      "text/plain": "            storeA  storeB  storeC  storeD  storeE    month  total_sales\nweek                                                                    \n2014-05-04    2643    8257    3893    6231    1294  2014-05        22318\n2014-05-11    6444    5736    5634    7092    2907  2014-05        27813\n2014-05-18    9646    2552    4253    5447    4736  2014-05        26634\n2014-05-25    5960   10740    8264    6063     949  2014-05        31976\n2014-06-01    7412    7374    3208    3985    3023  2014-06        25002",
      "text/html": "<div>\n<style scoped>\n    .dataframe tbody tr th:only-of-type {\n        vertical-align: middle;\n    }\n\n    .dataframe tbody tr th {\n        vertical-align: top;\n    }\n\n    .dataframe thead th {\n        text-align: right;\n    }\n</style>\n<table border=\"1\" class=\"dataframe\">\n  <thead>\n    <tr style=\"text-align: right;\">\n      <th></th>\n      <th>storeA</th>\n      <th>storeB</th>\n      <th>storeC</th>\n      <th>storeD</th>\n      <th>storeE</th>\n      <th>month</th>\n      <th>total_sales</th>\n    </tr>\n    <tr>\n      <th>week</th>\n      <th></th>\n      <th></th>\n      <th></th>\n      <th></th>\n      <th></th>\n      <th></th>\n      <th></th>\n    </tr>\n  </thead>\n  <tbody>\n    <tr>\n      <th>2014-05-04</th>\n      <td>2643</td>\n      <td>8257</td>\n      <td>3893</td>\n      <td>6231</td>\n      <td>1294</td>\n      <td>2014-05</td>\n      <td>22318</td>\n    </tr>\n    <tr>\n      <th>2014-05-11</th>\n      <td>6444</td>\n      <td>5736</td>\n      <td>5634</td>\n      <td>7092</td>\n      <td>2907</td>\n      <td>2014-05</td>\n      <td>27813</td>\n    </tr>\n    <tr>\n      <th>2014-05-18</th>\n      <td>9646</td>\n      <td>2552</td>\n      <td>4253</td>\n      <td>5447</td>\n      <td>4736</td>\n      <td>2014-05</td>\n      <td>26634</td>\n    </tr>\n    <tr>\n      <th>2014-05-25</th>\n      <td>5960</td>\n      <td>10740</td>\n      <td>8264</td>\n      <td>6063</td>\n      <td>949</td>\n      <td>2014-05</td>\n      <td>31976</td>\n    </tr>\n    <tr>\n      <th>2014-06-01</th>\n      <td>7412</td>\n      <td>7374</td>\n      <td>3208</td>\n      <td>3985</td>\n      <td>3023</td>\n      <td>2014-06</td>\n      <td>25002</td>\n    </tr>\n  </tbody>\n</table>\n</div>"
     },
     "metadata": {},
     "execution_count": 27
    }
   ],
   "source": [
    "df_index.head()"
   ]
  },
  {
   "cell_type": "code",
   "execution_count": 28,
   "metadata": {},
   "outputs": [
    {
     "output_type": "display_data",
     "data": {
      "text/plain": "<Figure size 432x288 with 1 Axes>",
      "image/svg+xml": "<?xml version=\"1.0\" encoding=\"utf-8\" standalone=\"no\"?>\r\n<!DOCTYPE svg PUBLIC \"-//W3C//DTD SVG 1.1//EN\"\r\n  \"http://www.w3.org/Graphics/SVG/1.1/DTD/svg11.dtd\">\r\n<!-- Created with matplotlib (https://matplotlib.org/) -->\r\n<svg height=\"262.19625pt\" version=\"1.1\" viewBox=\"0 0 395.328125 262.19625\" width=\"395.328125pt\" xmlns=\"http://www.w3.org/2000/svg\" xmlns:xlink=\"http://www.w3.org/1999/xlink\">\r\n <defs>\r\n  <style type=\"text/css\">\r\n*{stroke-linecap:butt;stroke-linejoin:round;}\r\n  </style>\r\n </defs>\r\n <g id=\"figure_1\">\r\n  <g id=\"patch_1\">\r\n   <path d=\"M 0 262.19625 \r\nL 395.328125 262.19625 \r\nL 395.328125 0 \r\nL 0 0 \r\nz\r\n\" style=\"fill:none;\"/>\r\n  </g>\r\n  <g id=\"axes_1\">\r\n   <g id=\"patch_2\">\r\n    <path d=\"M 53.328125 224.64 \r\nL 388.128125 224.64 \r\nL 388.128125 7.2 \r\nL 53.328125 7.2 \r\nz\r\n\" style=\"fill:#ffffff;\"/>\r\n   </g>\r\n   <g id=\"matplotlib.axis_1\">\r\n    <g id=\"xtick_1\">\r\n     <g id=\"line2d_1\">\r\n      <defs>\r\n       <path d=\"M 0 0 \r\nL 0 3.5 \r\n\" id=\"m0e837786c4\" style=\"stroke:#000000;stroke-width:0.8;\"/>\r\n      </defs>\r\n      <g>\r\n       <use style=\"stroke:#000000;stroke-width:0.8;\" x=\"81.219021\" xlink:href=\"#m0e837786c4\" y=\"224.64\"/>\r\n      </g>\r\n     </g>\r\n     <g id=\"text_1\">\r\n      <!-- 2014-07 -->\r\n      <defs>\r\n       <path d=\"M 19.1875 8.296875 \r\nL 53.609375 8.296875 \r\nL 53.609375 0 \r\nL 7.328125 0 \r\nL 7.328125 8.296875 \r\nQ 12.9375 14.109375 22.625 23.890625 \r\nQ 32.328125 33.6875 34.8125 36.53125 \r\nQ 39.546875 41.84375 41.421875 45.53125 \r\nQ 43.3125 49.21875 43.3125 52.78125 \r\nQ 43.3125 58.59375 39.234375 62.25 \r\nQ 35.15625 65.921875 28.609375 65.921875 \r\nQ 23.96875 65.921875 18.8125 64.3125 \r\nQ 13.671875 62.703125 7.8125 59.421875 \r\nL 7.8125 69.390625 \r\nQ 13.765625 71.78125 18.9375 73 \r\nQ 24.125 74.21875 28.421875 74.21875 \r\nQ 39.75 74.21875 46.484375 68.546875 \r\nQ 53.21875 62.890625 53.21875 53.421875 \r\nQ 53.21875 48.921875 51.53125 44.890625 \r\nQ 49.859375 40.875 45.40625 35.40625 \r\nQ 44.1875 33.984375 37.640625 27.21875 \r\nQ 31.109375 20.453125 19.1875 8.296875 \r\nz\r\n\" id=\"DejaVuSans-50\"/>\r\n       <path d=\"M 31.78125 66.40625 \r\nQ 24.171875 66.40625 20.328125 58.90625 \r\nQ 16.5 51.421875 16.5 36.375 \r\nQ 16.5 21.390625 20.328125 13.890625 \r\nQ 24.171875 6.390625 31.78125 6.390625 \r\nQ 39.453125 6.390625 43.28125 13.890625 \r\nQ 47.125 21.390625 47.125 36.375 \r\nQ 47.125 51.421875 43.28125 58.90625 \r\nQ 39.453125 66.40625 31.78125 66.40625 \r\nz\r\nM 31.78125 74.21875 \r\nQ 44.046875 74.21875 50.515625 64.515625 \r\nQ 56.984375 54.828125 56.984375 36.375 \r\nQ 56.984375 17.96875 50.515625 8.265625 \r\nQ 44.046875 -1.421875 31.78125 -1.421875 \r\nQ 19.53125 -1.421875 13.0625 8.265625 \r\nQ 6.59375 17.96875 6.59375 36.375 \r\nQ 6.59375 54.828125 13.0625 64.515625 \r\nQ 19.53125 74.21875 31.78125 74.21875 \r\nz\r\n\" id=\"DejaVuSans-48\"/>\r\n       <path d=\"M 12.40625 8.296875 \r\nL 28.515625 8.296875 \r\nL 28.515625 63.921875 \r\nL 10.984375 60.40625 \r\nL 10.984375 69.390625 \r\nL 28.421875 72.90625 \r\nL 38.28125 72.90625 \r\nL 38.28125 8.296875 \r\nL 54.390625 8.296875 \r\nL 54.390625 0 \r\nL 12.40625 0 \r\nz\r\n\" id=\"DejaVuSans-49\"/>\r\n       <path d=\"M 37.796875 64.3125 \r\nL 12.890625 25.390625 \r\nL 37.796875 25.390625 \r\nz\r\nM 35.203125 72.90625 \r\nL 47.609375 72.90625 \r\nL 47.609375 25.390625 \r\nL 58.015625 25.390625 \r\nL 58.015625 17.1875 \r\nL 47.609375 17.1875 \r\nL 47.609375 0 \r\nL 37.796875 0 \r\nL 37.796875 17.1875 \r\nL 4.890625 17.1875 \r\nL 4.890625 26.703125 \r\nz\r\n\" id=\"DejaVuSans-52\"/>\r\n       <path d=\"M 4.890625 31.390625 \r\nL 31.203125 31.390625 \r\nL 31.203125 23.390625 \r\nL 4.890625 23.390625 \r\nz\r\n\" id=\"DejaVuSans-45\"/>\r\n       <path d=\"M 8.203125 72.90625 \r\nL 55.078125 72.90625 \r\nL 55.078125 68.703125 \r\nL 28.609375 0 \r\nL 18.3125 0 \r\nL 43.21875 64.59375 \r\nL 8.203125 64.59375 \r\nz\r\n\" id=\"DejaVuSans-55\"/>\r\n      </defs>\r\n      <g transform=\"translate(60.327615 239.238437)scale(0.1 -0.1)\">\r\n       <use xlink:href=\"#DejaVuSans-50\"/>\r\n       <use x=\"63.623047\" xlink:href=\"#DejaVuSans-48\"/>\r\n       <use x=\"127.246094\" xlink:href=\"#DejaVuSans-49\"/>\r\n       <use x=\"190.869141\" xlink:href=\"#DejaVuSans-52\"/>\r\n       <use x=\"254.492188\" xlink:href=\"#DejaVuSans-45\"/>\r\n       <use x=\"290.576172\" xlink:href=\"#DejaVuSans-48\"/>\r\n       <use x=\"354.199219\" xlink:href=\"#DejaVuSans-55\"/>\r\n      </g>\r\n     </g>\r\n    </g>\r\n    <g id=\"xtick_2\">\r\n     <g id=\"line2d_2\">\r\n      <g>\r\n       <use style=\"stroke:#000000;stroke-width:0.8;\" x=\"121.422114\" xlink:href=\"#m0e837786c4\" y=\"224.64\"/>\r\n      </g>\r\n     </g>\r\n     <g id=\"text_2\">\r\n      <!-- 2015-01 -->\r\n      <defs>\r\n       <path d=\"M 10.796875 72.90625 \r\nL 49.515625 72.90625 \r\nL 49.515625 64.59375 \r\nL 19.828125 64.59375 \r\nL 19.828125 46.734375 \r\nQ 21.96875 47.46875 24.109375 47.828125 \r\nQ 26.265625 48.1875 28.421875 48.1875 \r\nQ 40.625 48.1875 47.75 41.5 \r\nQ 54.890625 34.8125 54.890625 23.390625 \r\nQ 54.890625 11.625 47.5625 5.09375 \r\nQ 40.234375 -1.421875 26.90625 -1.421875 \r\nQ 22.3125 -1.421875 17.546875 -0.640625 \r\nQ 12.796875 0.140625 7.71875 1.703125 \r\nL 7.71875 11.625 \r\nQ 12.109375 9.234375 16.796875 8.0625 \r\nQ 21.484375 6.890625 26.703125 6.890625 \r\nQ 35.15625 6.890625 40.078125 11.328125 \r\nQ 45.015625 15.765625 45.015625 23.390625 \r\nQ 45.015625 31 40.078125 35.4375 \r\nQ 35.15625 39.890625 26.703125 39.890625 \r\nQ 22.75 39.890625 18.8125 39.015625 \r\nQ 14.890625 38.140625 10.796875 36.28125 \r\nz\r\n\" id=\"DejaVuSans-53\"/>\r\n      </defs>\r\n      <g transform=\"translate(100.530708 239.238437)scale(0.1 -0.1)\">\r\n       <use xlink:href=\"#DejaVuSans-50\"/>\r\n       <use x=\"63.623047\" xlink:href=\"#DejaVuSans-48\"/>\r\n       <use x=\"127.246094\" xlink:href=\"#DejaVuSans-49\"/>\r\n       <use x=\"190.869141\" xlink:href=\"#DejaVuSans-53\"/>\r\n       <use x=\"254.492188\" xlink:href=\"#DejaVuSans-45\"/>\r\n       <use x=\"290.576172\" xlink:href=\"#DejaVuSans-48\"/>\r\n       <use x=\"354.199219\" xlink:href=\"#DejaVuSans-49\"/>\r\n      </g>\r\n     </g>\r\n    </g>\r\n    <g id=\"xtick_3\">\r\n     <g id=\"line2d_3\">\r\n      <g>\r\n       <use style=\"stroke:#000000;stroke-width:0.8;\" x=\"160.969723\" xlink:href=\"#m0e837786c4\" y=\"224.64\"/>\r\n      </g>\r\n     </g>\r\n     <g id=\"text_3\">\r\n      <!-- 2015-07 -->\r\n      <g transform=\"translate(140.078316 239.238437)scale(0.1 -0.1)\">\r\n       <use xlink:href=\"#DejaVuSans-50\"/>\r\n       <use x=\"63.623047\" xlink:href=\"#DejaVuSans-48\"/>\r\n       <use x=\"127.246094\" xlink:href=\"#DejaVuSans-49\"/>\r\n       <use x=\"190.869141\" xlink:href=\"#DejaVuSans-53\"/>\r\n       <use x=\"254.492188\" xlink:href=\"#DejaVuSans-45\"/>\r\n       <use x=\"290.576172\" xlink:href=\"#DejaVuSans-48\"/>\r\n       <use x=\"354.199219\" xlink:href=\"#DejaVuSans-55\"/>\r\n      </g>\r\n     </g>\r\n    </g>\r\n    <g id=\"xtick_4\">\r\n     <g id=\"line2d_4\">\r\n      <g>\r\n       <use style=\"stroke:#000000;stroke-width:0.8;\" x=\"201.172816\" xlink:href=\"#m0e837786c4\" y=\"224.64\"/>\r\n      </g>\r\n     </g>\r\n     <g id=\"text_4\">\r\n      <!-- 2016-01 -->\r\n      <defs>\r\n       <path d=\"M 33.015625 40.375 \r\nQ 26.375 40.375 22.484375 35.828125 \r\nQ 18.609375 31.296875 18.609375 23.390625 \r\nQ 18.609375 15.53125 22.484375 10.953125 \r\nQ 26.375 6.390625 33.015625 6.390625 \r\nQ 39.65625 6.390625 43.53125 10.953125 \r\nQ 47.40625 15.53125 47.40625 23.390625 \r\nQ 47.40625 31.296875 43.53125 35.828125 \r\nQ 39.65625 40.375 33.015625 40.375 \r\nz\r\nM 52.59375 71.296875 \r\nL 52.59375 62.3125 \r\nQ 48.875 64.0625 45.09375 64.984375 \r\nQ 41.3125 65.921875 37.59375 65.921875 \r\nQ 27.828125 65.921875 22.671875 59.328125 \r\nQ 17.53125 52.734375 16.796875 39.40625 \r\nQ 19.671875 43.65625 24.015625 45.921875 \r\nQ 28.375 48.1875 33.59375 48.1875 \r\nQ 44.578125 48.1875 50.953125 41.515625 \r\nQ 57.328125 34.859375 57.328125 23.390625 \r\nQ 57.328125 12.15625 50.6875 5.359375 \r\nQ 44.046875 -1.421875 33.015625 -1.421875 \r\nQ 20.359375 -1.421875 13.671875 8.265625 \r\nQ 6.984375 17.96875 6.984375 36.375 \r\nQ 6.984375 53.65625 15.1875 63.9375 \r\nQ 23.390625 74.21875 37.203125 74.21875 \r\nQ 40.921875 74.21875 44.703125 73.484375 \r\nQ 48.484375 72.75 52.59375 71.296875 \r\nz\r\n\" id=\"DejaVuSans-54\"/>\r\n      </defs>\r\n      <g transform=\"translate(180.28141 239.238437)scale(0.1 -0.1)\">\r\n       <use xlink:href=\"#DejaVuSans-50\"/>\r\n       <use x=\"63.623047\" xlink:href=\"#DejaVuSans-48\"/>\r\n       <use x=\"127.246094\" xlink:href=\"#DejaVuSans-49\"/>\r\n       <use x=\"190.869141\" xlink:href=\"#DejaVuSans-54\"/>\r\n       <use x=\"254.492188\" xlink:href=\"#DejaVuSans-45\"/>\r\n       <use x=\"290.576172\" xlink:href=\"#DejaVuSans-48\"/>\r\n       <use x=\"354.199219\" xlink:href=\"#DejaVuSans-49\"/>\r\n      </g>\r\n     </g>\r\n    </g>\r\n    <g id=\"xtick_5\">\r\n     <g id=\"line2d_5\">\r\n      <g>\r\n       <use style=\"stroke:#000000;stroke-width:0.8;\" x=\"240.938919\" xlink:href=\"#m0e837786c4\" y=\"224.64\"/>\r\n      </g>\r\n     </g>\r\n     <g id=\"text_5\">\r\n      <!-- 2016-07 -->\r\n      <g transform=\"translate(220.047513 239.238437)scale(0.1 -0.1)\">\r\n       <use xlink:href=\"#DejaVuSans-50\"/>\r\n       <use x=\"63.623047\" xlink:href=\"#DejaVuSans-48\"/>\r\n       <use x=\"127.246094\" xlink:href=\"#DejaVuSans-49\"/>\r\n       <use x=\"190.869141\" xlink:href=\"#DejaVuSans-54\"/>\r\n       <use x=\"254.492188\" xlink:href=\"#DejaVuSans-45\"/>\r\n       <use x=\"290.576172\" xlink:href=\"#DejaVuSans-48\"/>\r\n       <use x=\"354.199219\" xlink:href=\"#DejaVuSans-55\"/>\r\n      </g>\r\n     </g>\r\n    </g>\r\n    <g id=\"xtick_6\">\r\n     <g id=\"line2d_6\">\r\n      <g>\r\n       <use style=\"stroke:#000000;stroke-width:0.8;\" x=\"281.142013\" xlink:href=\"#m0e837786c4\" y=\"224.64\"/>\r\n      </g>\r\n     </g>\r\n     <g id=\"text_6\">\r\n      <!-- 2017-01 -->\r\n      <g transform=\"translate(260.250606 239.238437)scale(0.1 -0.1)\">\r\n       <use xlink:href=\"#DejaVuSans-50\"/>\r\n       <use x=\"63.623047\" xlink:href=\"#DejaVuSans-48\"/>\r\n       <use x=\"127.246094\" xlink:href=\"#DejaVuSans-49\"/>\r\n       <use x=\"190.869141\" xlink:href=\"#DejaVuSans-55\"/>\r\n       <use x=\"254.492188\" xlink:href=\"#DejaVuSans-45\"/>\r\n       <use x=\"290.576172\" xlink:href=\"#DejaVuSans-48\"/>\r\n       <use x=\"354.199219\" xlink:href=\"#DejaVuSans-49\"/>\r\n      </g>\r\n     </g>\r\n    </g>\r\n    <g id=\"xtick_7\">\r\n     <g id=\"line2d_7\">\r\n      <g>\r\n       <use style=\"stroke:#000000;stroke-width:0.8;\" x=\"320.689621\" xlink:href=\"#m0e837786c4\" y=\"224.64\"/>\r\n      </g>\r\n     </g>\r\n     <g id=\"text_7\">\r\n      <!-- 2017-07 -->\r\n      <g transform=\"translate(299.798215 239.238437)scale(0.1 -0.1)\">\r\n       <use xlink:href=\"#DejaVuSans-50\"/>\r\n       <use x=\"63.623047\" xlink:href=\"#DejaVuSans-48\"/>\r\n       <use x=\"127.246094\" xlink:href=\"#DejaVuSans-49\"/>\r\n       <use x=\"190.869141\" xlink:href=\"#DejaVuSans-55\"/>\r\n       <use x=\"254.492188\" xlink:href=\"#DejaVuSans-45\"/>\r\n       <use x=\"290.576172\" xlink:href=\"#DejaVuSans-48\"/>\r\n       <use x=\"354.199219\" xlink:href=\"#DejaVuSans-55\"/>\r\n      </g>\r\n     </g>\r\n    </g>\r\n    <g id=\"xtick_8\">\r\n     <g id=\"line2d_8\">\r\n      <g>\r\n       <use style=\"stroke:#000000;stroke-width:0.8;\" x=\"360.892714\" xlink:href=\"#m0e837786c4\" y=\"224.64\"/>\r\n      </g>\r\n     </g>\r\n     <g id=\"text_8\">\r\n      <!-- 2018-01 -->\r\n      <defs>\r\n       <path d=\"M 31.78125 34.625 \r\nQ 24.75 34.625 20.71875 30.859375 \r\nQ 16.703125 27.09375 16.703125 20.515625 \r\nQ 16.703125 13.921875 20.71875 10.15625 \r\nQ 24.75 6.390625 31.78125 6.390625 \r\nQ 38.8125 6.390625 42.859375 10.171875 \r\nQ 46.921875 13.96875 46.921875 20.515625 \r\nQ 46.921875 27.09375 42.890625 30.859375 \r\nQ 38.875 34.625 31.78125 34.625 \r\nz\r\nM 21.921875 38.8125 \r\nQ 15.578125 40.375 12.03125 44.71875 \r\nQ 8.5 49.078125 8.5 55.328125 \r\nQ 8.5 64.0625 14.71875 69.140625 \r\nQ 20.953125 74.21875 31.78125 74.21875 \r\nQ 42.671875 74.21875 48.875 69.140625 \r\nQ 55.078125 64.0625 55.078125 55.328125 \r\nQ 55.078125 49.078125 51.53125 44.71875 \r\nQ 48 40.375 41.703125 38.8125 \r\nQ 48.828125 37.15625 52.796875 32.3125 \r\nQ 56.78125 27.484375 56.78125 20.515625 \r\nQ 56.78125 9.90625 50.3125 4.234375 \r\nQ 43.84375 -1.421875 31.78125 -1.421875 \r\nQ 19.734375 -1.421875 13.25 4.234375 \r\nQ 6.78125 9.90625 6.78125 20.515625 \r\nQ 6.78125 27.484375 10.78125 32.3125 \r\nQ 14.796875 37.15625 21.921875 38.8125 \r\nz\r\nM 18.3125 54.390625 \r\nQ 18.3125 48.734375 21.84375 45.5625 \r\nQ 25.390625 42.390625 31.78125 42.390625 \r\nQ 38.140625 42.390625 41.71875 45.5625 \r\nQ 45.3125 48.734375 45.3125 54.390625 \r\nQ 45.3125 60.0625 41.71875 63.234375 \r\nQ 38.140625 66.40625 31.78125 66.40625 \r\nQ 25.390625 66.40625 21.84375 63.234375 \r\nQ 18.3125 60.0625 18.3125 54.390625 \r\nz\r\n\" id=\"DejaVuSans-56\"/>\r\n      </defs>\r\n      <g transform=\"translate(340.001308 239.238437)scale(0.1 -0.1)\">\r\n       <use xlink:href=\"#DejaVuSans-50\"/>\r\n       <use x=\"63.623047\" xlink:href=\"#DejaVuSans-48\"/>\r\n       <use x=\"127.246094\" xlink:href=\"#DejaVuSans-49\"/>\r\n       <use x=\"190.869141\" xlink:href=\"#DejaVuSans-56\"/>\r\n       <use x=\"254.492188\" xlink:href=\"#DejaVuSans-45\"/>\r\n       <use x=\"290.576172\" xlink:href=\"#DejaVuSans-48\"/>\r\n       <use x=\"354.199219\" xlink:href=\"#DejaVuSans-49\"/>\r\n      </g>\r\n     </g>\r\n    </g>\r\n    <g id=\"text_9\">\r\n     <!-- week -->\r\n     <defs>\r\n      <path d=\"M 4.203125 54.6875 \r\nL 13.1875 54.6875 \r\nL 24.421875 12.015625 \r\nL 35.59375 54.6875 \r\nL 46.1875 54.6875 \r\nL 57.421875 12.015625 \r\nL 68.609375 54.6875 \r\nL 77.59375 54.6875 \r\nL 63.28125 0 \r\nL 52.6875 0 \r\nL 40.921875 44.828125 \r\nL 29.109375 0 \r\nL 18.5 0 \r\nz\r\n\" id=\"DejaVuSans-119\"/>\r\n      <path d=\"M 56.203125 29.59375 \r\nL 56.203125 25.203125 \r\nL 14.890625 25.203125 \r\nQ 15.484375 15.921875 20.484375 11.0625 \r\nQ 25.484375 6.203125 34.421875 6.203125 \r\nQ 39.59375 6.203125 44.453125 7.46875 \r\nQ 49.3125 8.734375 54.109375 11.28125 \r\nL 54.109375 2.78125 \r\nQ 49.265625 0.734375 44.1875 -0.34375 \r\nQ 39.109375 -1.421875 33.890625 -1.421875 \r\nQ 20.796875 -1.421875 13.15625 6.1875 \r\nQ 5.515625 13.8125 5.515625 26.8125 \r\nQ 5.515625 40.234375 12.765625 48.109375 \r\nQ 20.015625 56 32.328125 56 \r\nQ 43.359375 56 49.78125 48.890625 \r\nQ 56.203125 41.796875 56.203125 29.59375 \r\nz\r\nM 47.21875 32.234375 \r\nQ 47.125 39.59375 43.09375 43.984375 \r\nQ 39.0625 48.390625 32.421875 48.390625 \r\nQ 24.90625 48.390625 20.390625 44.140625 \r\nQ 15.875 39.890625 15.1875 32.171875 \r\nz\r\n\" id=\"DejaVuSans-101\"/>\r\n      <path d=\"M 9.078125 75.984375 \r\nL 18.109375 75.984375 \r\nL 18.109375 31.109375 \r\nL 44.921875 54.6875 \r\nL 56.390625 54.6875 \r\nL 27.390625 29.109375 \r\nL 57.625 0 \r\nL 45.90625 0 \r\nL 18.109375 26.703125 \r\nL 18.109375 0 \r\nL 9.078125 0 \r\nz\r\n\" id=\"DejaVuSans-107\"/>\r\n     </defs>\r\n     <g transform=\"translate(207.590625 252.916562)scale(0.1 -0.1)\">\r\n      <use xlink:href=\"#DejaVuSans-119\"/>\r\n      <use x=\"81.787109\" xlink:href=\"#DejaVuSans-101\"/>\r\n      <use x=\"143.310547\" xlink:href=\"#DejaVuSans-101\"/>\r\n      <use x=\"204.833984\" xlink:href=\"#DejaVuSans-107\"/>\r\n     </g>\r\n    </g>\r\n   </g>\r\n   <g id=\"matplotlib.axis_2\">\r\n    <g id=\"ytick_1\">\r\n     <g id=\"line2d_9\">\r\n      <defs>\r\n       <path d=\"M 0 0 \r\nL -3.5 0 \r\n\" id=\"m1cbecce87f\" style=\"stroke:#000000;stroke-width:0.8;\"/>\r\n      </defs>\r\n      <g>\r\n       <use style=\"stroke:#000000;stroke-width:0.8;\" x=\"53.328125\" xlink:href=\"#m1cbecce87f\" y=\"212.797348\"/>\r\n      </g>\r\n     </g>\r\n     <g id=\"text_10\">\r\n      <!-- 1000 -->\r\n      <g transform=\"translate(20.878125 216.596567)scale(0.1 -0.1)\">\r\n       <use xlink:href=\"#DejaVuSans-49\"/>\r\n       <use x=\"63.623047\" xlink:href=\"#DejaVuSans-48\"/>\r\n       <use x=\"127.246094\" xlink:href=\"#DejaVuSans-48\"/>\r\n       <use x=\"190.869141\" xlink:href=\"#DejaVuSans-48\"/>\r\n      </g>\r\n     </g>\r\n    </g>\r\n    <g id=\"ytick_2\">\r\n     <g id=\"line2d_10\">\r\n      <g>\r\n       <use style=\"stroke:#000000;stroke-width:0.8;\" x=\"53.328125\" xlink:href=\"#m1cbecce87f\" y=\"185.961518\"/>\r\n      </g>\r\n     </g>\r\n     <g id=\"text_11\">\r\n      <!-- 2000 -->\r\n      <g transform=\"translate(20.878125 189.760736)scale(0.1 -0.1)\">\r\n       <use xlink:href=\"#DejaVuSans-50\"/>\r\n       <use x=\"63.623047\" xlink:href=\"#DejaVuSans-48\"/>\r\n       <use x=\"127.246094\" xlink:href=\"#DejaVuSans-48\"/>\r\n       <use x=\"190.869141\" xlink:href=\"#DejaVuSans-48\"/>\r\n      </g>\r\n     </g>\r\n    </g>\r\n    <g id=\"ytick_3\">\r\n     <g id=\"line2d_11\">\r\n      <g>\r\n       <use style=\"stroke:#000000;stroke-width:0.8;\" x=\"53.328125\" xlink:href=\"#m1cbecce87f\" y=\"159.125687\"/>\r\n      </g>\r\n     </g>\r\n     <g id=\"text_12\">\r\n      <!-- 3000 -->\r\n      <defs>\r\n       <path d=\"M 40.578125 39.3125 \r\nQ 47.65625 37.796875 51.625 33 \r\nQ 55.609375 28.21875 55.609375 21.1875 \r\nQ 55.609375 10.40625 48.1875 4.484375 \r\nQ 40.765625 -1.421875 27.09375 -1.421875 \r\nQ 22.515625 -1.421875 17.65625 -0.515625 \r\nQ 12.796875 0.390625 7.625 2.203125 \r\nL 7.625 11.71875 \r\nQ 11.71875 9.328125 16.59375 8.109375 \r\nQ 21.484375 6.890625 26.8125 6.890625 \r\nQ 36.078125 6.890625 40.9375 10.546875 \r\nQ 45.796875 14.203125 45.796875 21.1875 \r\nQ 45.796875 27.640625 41.28125 31.265625 \r\nQ 36.765625 34.90625 28.71875 34.90625 \r\nL 20.21875 34.90625 \r\nL 20.21875 43.015625 \r\nL 29.109375 43.015625 \r\nQ 36.375 43.015625 40.234375 45.921875 \r\nQ 44.09375 48.828125 44.09375 54.296875 \r\nQ 44.09375 59.90625 40.109375 62.90625 \r\nQ 36.140625 65.921875 28.71875 65.921875 \r\nQ 24.65625 65.921875 20.015625 65.03125 \r\nQ 15.375 64.15625 9.8125 62.3125 \r\nL 9.8125 71.09375 \r\nQ 15.4375 72.65625 20.34375 73.4375 \r\nQ 25.25 74.21875 29.59375 74.21875 \r\nQ 40.828125 74.21875 47.359375 69.109375 \r\nQ 53.90625 64.015625 53.90625 55.328125 \r\nQ 53.90625 49.265625 50.4375 45.09375 \r\nQ 46.96875 40.921875 40.578125 39.3125 \r\nz\r\n\" id=\"DejaVuSans-51\"/>\r\n      </defs>\r\n      <g transform=\"translate(20.878125 162.924906)scale(0.1 -0.1)\">\r\n       <use xlink:href=\"#DejaVuSans-51\"/>\r\n       <use x=\"63.623047\" xlink:href=\"#DejaVuSans-48\"/>\r\n       <use x=\"127.246094\" xlink:href=\"#DejaVuSans-48\"/>\r\n       <use x=\"190.869141\" xlink:href=\"#DejaVuSans-48\"/>\r\n      </g>\r\n     </g>\r\n    </g>\r\n    <g id=\"ytick_4\">\r\n     <g id=\"line2d_12\">\r\n      <g>\r\n       <use style=\"stroke:#000000;stroke-width:0.8;\" x=\"53.328125\" xlink:href=\"#m1cbecce87f\" y=\"132.289857\"/>\r\n      </g>\r\n     </g>\r\n     <g id=\"text_13\">\r\n      <!-- 4000 -->\r\n      <g transform=\"translate(20.878125 136.089075)scale(0.1 -0.1)\">\r\n       <use xlink:href=\"#DejaVuSans-52\"/>\r\n       <use x=\"63.623047\" xlink:href=\"#DejaVuSans-48\"/>\r\n       <use x=\"127.246094\" xlink:href=\"#DejaVuSans-48\"/>\r\n       <use x=\"190.869141\" xlink:href=\"#DejaVuSans-48\"/>\r\n      </g>\r\n     </g>\r\n    </g>\r\n    <g id=\"ytick_5\">\r\n     <g id=\"line2d_13\">\r\n      <g>\r\n       <use style=\"stroke:#000000;stroke-width:0.8;\" x=\"53.328125\" xlink:href=\"#m1cbecce87f\" y=\"105.454026\"/>\r\n      </g>\r\n     </g>\r\n     <g id=\"text_14\">\r\n      <!-- 5000 -->\r\n      <g transform=\"translate(20.878125 109.253245)scale(0.1 -0.1)\">\r\n       <use xlink:href=\"#DejaVuSans-53\"/>\r\n       <use x=\"63.623047\" xlink:href=\"#DejaVuSans-48\"/>\r\n       <use x=\"127.246094\" xlink:href=\"#DejaVuSans-48\"/>\r\n       <use x=\"190.869141\" xlink:href=\"#DejaVuSans-48\"/>\r\n      </g>\r\n     </g>\r\n    </g>\r\n    <g id=\"ytick_6\">\r\n     <g id=\"line2d_14\">\r\n      <g>\r\n       <use style=\"stroke:#000000;stroke-width:0.8;\" x=\"53.328125\" xlink:href=\"#m1cbecce87f\" y=\"78.618196\"/>\r\n      </g>\r\n     </g>\r\n     <g id=\"text_15\">\r\n      <!-- 6000 -->\r\n      <g transform=\"translate(20.878125 82.417414)scale(0.1 -0.1)\">\r\n       <use xlink:href=\"#DejaVuSans-54\"/>\r\n       <use x=\"63.623047\" xlink:href=\"#DejaVuSans-48\"/>\r\n       <use x=\"127.246094\" xlink:href=\"#DejaVuSans-48\"/>\r\n       <use x=\"190.869141\" xlink:href=\"#DejaVuSans-48\"/>\r\n      </g>\r\n     </g>\r\n    </g>\r\n    <g id=\"ytick_7\">\r\n     <g id=\"line2d_15\">\r\n      <g>\r\n       <use style=\"stroke:#000000;stroke-width:0.8;\" x=\"53.328125\" xlink:href=\"#m1cbecce87f\" y=\"51.782365\"/>\r\n      </g>\r\n     </g>\r\n     <g id=\"text_16\">\r\n      <!-- 7000 -->\r\n      <g transform=\"translate(20.878125 55.581584)scale(0.1 -0.1)\">\r\n       <use xlink:href=\"#DejaVuSans-55\"/>\r\n       <use x=\"63.623047\" xlink:href=\"#DejaVuSans-48\"/>\r\n       <use x=\"127.246094\" xlink:href=\"#DejaVuSans-48\"/>\r\n       <use x=\"190.869141\" xlink:href=\"#DejaVuSans-48\"/>\r\n      </g>\r\n     </g>\r\n    </g>\r\n    <g id=\"ytick_8\">\r\n     <g id=\"line2d_16\">\r\n      <g>\r\n       <use style=\"stroke:#000000;stroke-width:0.8;\" x=\"53.328125\" xlink:href=\"#m1cbecce87f\" y=\"24.946535\"/>\r\n      </g>\r\n     </g>\r\n     <g id=\"text_17\">\r\n      <!-- 8000 -->\r\n      <g transform=\"translate(20.878125 28.745753)scale(0.1 -0.1)\">\r\n       <use xlink:href=\"#DejaVuSans-56\"/>\r\n       <use x=\"63.623047\" xlink:href=\"#DejaVuSans-48\"/>\r\n       <use x=\"127.246094\" xlink:href=\"#DejaVuSans-48\"/>\r\n       <use x=\"190.869141\" xlink:href=\"#DejaVuSans-48\"/>\r\n      </g>\r\n     </g>\r\n    </g>\r\n    <g id=\"text_18\">\r\n     <!-- storeC -->\r\n     <defs>\r\n      <path d=\"M 44.28125 53.078125 \r\nL 44.28125 44.578125 \r\nQ 40.484375 46.53125 36.375 47.5 \r\nQ 32.28125 48.484375 27.875 48.484375 \r\nQ 21.1875 48.484375 17.84375 46.4375 \r\nQ 14.5 44.390625 14.5 40.28125 \r\nQ 14.5 37.15625 16.890625 35.375 \r\nQ 19.28125 33.59375 26.515625 31.984375 \r\nL 29.59375 31.296875 \r\nQ 39.15625 29.25 43.1875 25.515625 \r\nQ 47.21875 21.78125 47.21875 15.09375 \r\nQ 47.21875 7.46875 41.1875 3.015625 \r\nQ 35.15625 -1.421875 24.609375 -1.421875 \r\nQ 20.21875 -1.421875 15.453125 -0.5625 \r\nQ 10.6875 0.296875 5.421875 2 \r\nL 5.421875 11.28125 \r\nQ 10.40625 8.6875 15.234375 7.390625 \r\nQ 20.0625 6.109375 24.8125 6.109375 \r\nQ 31.15625 6.109375 34.5625 8.28125 \r\nQ 37.984375 10.453125 37.984375 14.40625 \r\nQ 37.984375 18.0625 35.515625 20.015625 \r\nQ 33.0625 21.96875 24.703125 23.78125 \r\nL 21.578125 24.515625 \r\nQ 13.234375 26.265625 9.515625 29.90625 \r\nQ 5.8125 33.546875 5.8125 39.890625 \r\nQ 5.8125 47.609375 11.28125 51.796875 \r\nQ 16.75 56 26.8125 56 \r\nQ 31.78125 56 36.171875 55.265625 \r\nQ 40.578125 54.546875 44.28125 53.078125 \r\nz\r\n\" id=\"DejaVuSans-115\"/>\r\n      <path d=\"M 18.3125 70.21875 \r\nL 18.3125 54.6875 \r\nL 36.8125 54.6875 \r\nL 36.8125 47.703125 \r\nL 18.3125 47.703125 \r\nL 18.3125 18.015625 \r\nQ 18.3125 11.328125 20.140625 9.421875 \r\nQ 21.96875 7.515625 27.59375 7.515625 \r\nL 36.8125 7.515625 \r\nL 36.8125 0 \r\nL 27.59375 0 \r\nQ 17.1875 0 13.234375 3.875 \r\nQ 9.28125 7.765625 9.28125 18.015625 \r\nL 9.28125 47.703125 \r\nL 2.6875 47.703125 \r\nL 2.6875 54.6875 \r\nL 9.28125 54.6875 \r\nL 9.28125 70.21875 \r\nz\r\n\" id=\"DejaVuSans-116\"/>\r\n      <path d=\"M 30.609375 48.390625 \r\nQ 23.390625 48.390625 19.1875 42.75 \r\nQ 14.984375 37.109375 14.984375 27.296875 \r\nQ 14.984375 17.484375 19.15625 11.84375 \r\nQ 23.34375 6.203125 30.609375 6.203125 \r\nQ 37.796875 6.203125 41.984375 11.859375 \r\nQ 46.1875 17.53125 46.1875 27.296875 \r\nQ 46.1875 37.015625 41.984375 42.703125 \r\nQ 37.796875 48.390625 30.609375 48.390625 \r\nz\r\nM 30.609375 56 \r\nQ 42.328125 56 49.015625 48.375 \r\nQ 55.71875 40.765625 55.71875 27.296875 \r\nQ 55.71875 13.875 49.015625 6.21875 \r\nQ 42.328125 -1.421875 30.609375 -1.421875 \r\nQ 18.84375 -1.421875 12.171875 6.21875 \r\nQ 5.515625 13.875 5.515625 27.296875 \r\nQ 5.515625 40.765625 12.171875 48.375 \r\nQ 18.84375 56 30.609375 56 \r\nz\r\n\" id=\"DejaVuSans-111\"/>\r\n      <path d=\"M 41.109375 46.296875 \r\nQ 39.59375 47.171875 37.8125 47.578125 \r\nQ 36.03125 48 33.890625 48 \r\nQ 26.265625 48 22.1875 43.046875 \r\nQ 18.109375 38.09375 18.109375 28.8125 \r\nL 18.109375 0 \r\nL 9.078125 0 \r\nL 9.078125 54.6875 \r\nL 18.109375 54.6875 \r\nL 18.109375 46.1875 \r\nQ 20.953125 51.171875 25.484375 53.578125 \r\nQ 30.03125 56 36.53125 56 \r\nQ 37.453125 56 38.578125 55.875 \r\nQ 39.703125 55.765625 41.0625 55.515625 \r\nz\r\n\" id=\"DejaVuSans-114\"/>\r\n      <path d=\"M 64.40625 67.28125 \r\nL 64.40625 56.890625 \r\nQ 59.421875 61.53125 53.78125 63.8125 \r\nQ 48.140625 66.109375 41.796875 66.109375 \r\nQ 29.296875 66.109375 22.65625 58.46875 \r\nQ 16.015625 50.828125 16.015625 36.375 \r\nQ 16.015625 21.96875 22.65625 14.328125 \r\nQ 29.296875 6.6875 41.796875 6.6875 \r\nQ 48.140625 6.6875 53.78125 8.984375 \r\nQ 59.421875 11.28125 64.40625 15.921875 \r\nL 64.40625 5.609375 \r\nQ 59.234375 2.09375 53.4375 0.328125 \r\nQ 47.65625 -1.421875 41.21875 -1.421875 \r\nQ 24.65625 -1.421875 15.125 8.703125 \r\nQ 5.609375 18.84375 5.609375 36.375 \r\nQ 5.609375 53.953125 15.125 64.078125 \r\nQ 24.65625 74.21875 41.21875 74.21875 \r\nQ 47.75 74.21875 53.53125 72.484375 \r\nQ 59.328125 70.75 64.40625 67.28125 \r\nz\r\n\" id=\"DejaVuSans-67\"/>\r\n     </defs>\r\n     <g transform=\"translate(14.798438 132.166094)rotate(-90)scale(0.1 -0.1)\">\r\n      <use xlink:href=\"#DejaVuSans-115\"/>\r\n      <use x=\"52.099609\" xlink:href=\"#DejaVuSans-116\"/>\r\n      <use x=\"91.308594\" xlink:href=\"#DejaVuSans-111\"/>\r\n      <use x=\"152.490234\" xlink:href=\"#DejaVuSans-114\"/>\r\n      <use x=\"193.572266\" xlink:href=\"#DejaVuSans-101\"/>\r\n      <use x=\"255.095703\" xlink:href=\"#DejaVuSans-67\"/>\r\n     </g>\r\n    </g>\r\n   </g>\r\n   <g id=\"line2d_17\">\r\n    <path clip-path=\"url(#p802690eb78)\" d=\"M 68.546307 135.16129 \r\nL 70.075772 88.44011 \r\nL 71.605238 125.500391 \r\nL 73.134703 17.861875 \r\nL 74.664169 153.543834 \r\nL 76.193634 103.575518 \r\nL 77.7231 91.284708 \r\nL 79.252565 91.231036 \r\nL 82.311496 214.756364 \r\nL 83.840962 118.388896 \r\nL 85.370427 183.170591 \r\nL 88.429358 25.134386 \r\nL 89.958824 173.187662 \r\nL 91.488289 97.617964 \r\nL 93.017755 174.931991 \r\nL 94.54722 135.993201 \r\nL 96.076686 80.738226 \r\nL 97.606151 127.620422 \r\nL 99.135617 82.160525 \r\nL 100.665083 128.908542 \r\nL 102.194548 17.996055 \r\nL 103.724014 49.071946 \r\nL 105.253479 71.614044 \r\nL 106.782945 162.399658 \r\nL 108.31241 92.358141 \r\nL 109.841876 62.087324 \r\nL 111.371341 135.93953 \r\nL 112.900807 130.196662 \r\nL 114.430272 138.515769 \r\nL 115.959738 99.630651 \r\nL 117.489203 141.387203 \r\nL 119.018669 55.083172 \r\nL 120.548134 160.950524 \r\nL 122.0776 81.35545 \r\nL 123.607065 155.234492 \r\nL 125.136531 139.294008 \r\nL 126.665996 52.104395 \r\nL 128.195462 135.16129 \r\nL 129.724927 69.762372 \r\nL 131.254393 143.265711 \r\nL 132.783858 78.135151 \r\nL 134.313324 42.22881 \r\nL 135.842789 93.512082 \r\nL 137.372255 81.623809 \r\nL 138.90172 66.649415 \r\nL 140.431186 92.948529 \r\nL 141.960651 101.69701 \r\nL 143.490117 117.288627 \r\nL 145.019582 102.904622 \r\nL 148.078513 136.798276 \r\nL 149.607979 94.558679 \r\nL 151.137444 159.87709 \r\nL 152.66691 83.958526 \r\nL 154.196375 52.775291 \r\nL 155.725841 114.148835 \r\nL 157.255306 154.724611 \r\nL 158.784772 121.958062 \r\nL 160.314237 75.854105 \r\nL 161.843703 91.553066 \r\nL 163.373168 119.006121 \r\nL 164.902634 106.742146 \r\nL 166.432099 86.105392 \r\nL 167.961565 57.766755 \r\nL 169.49103 130.706543 \r\nL 171.020496 103.333996 \r\nL 172.549961 85.971213 \r\nL 174.079427 88.94999 \r\nL 175.608892 143.882935 \r\nL 177.138358 96.786053 \r\nL 178.667823 125.339376 \r\nL 180.197289 59.430577 \r\nL 181.726755 174.046409 \r\nL 183.25622 135.080783 \r\nL 184.785686 114.497701 \r\nL 186.315151 128.774363 \r\nL 187.844617 113.182745 \r\nL 189.374082 121.850719 \r\nL 190.903548 85.971213 \r\nL 192.433013 93.887783 \r\nL 193.962479 65.119773 \r\nL 195.491944 134.114693 \r\nL 197.02141 117.20812 \r\nL 198.550875 74.914851 \r\nL 200.080341 69.681864 \r\nL 201.609806 76.712852 \r\nL 203.139272 115.007582 \r\nL 204.668737 76.793359 \r\nL 206.198203 184.995428 \r\nL 207.727668 107.225191 \r\nL 209.257134 112.672865 \r\nL 210.786599 110.9017 \r\nL 212.316065 27.898476 \r\nL 213.84553 77.061717 \r\nL 215.374996 105.319847 \r\nL 216.904461 102.448413 \r\nL 218.433927 142.997353 \r\nL 219.963392 129.337915 \r\nL 223.022323 82.697242 \r\nL 224.551789 156.683626 \r\nL 226.081254 117.449642 \r\nL 227.61072 136.154216 \r\nL 229.140185 109.881938 \r\nL 230.669651 131.296931 \r\nL 232.199116 99.093934 \r\nL 233.728582 104.863638 \r\nL 235.258047 91.177364 \r\nL 236.787513 117.315463 \r\nL 238.316978 112.458178 \r\nL 239.846444 133.658484 \r\nL 241.375909 99.684323 \r\nL 242.905375 31.09194 \r\nL 244.43484 148.659713 \r\nL 245.964306 110.042953 \r\nL 247.493771 35.412509 \r\nL 249.023237 97.295934 \r\nL 250.552702 112.619193 \r\nL 252.082168 113.102238 \r\nL 253.611633 93.163216 \r\nL 255.141099 108.030266 \r\nL 256.670564 134.946604 \r\nL 258.20003 138.864635 \r\nL 259.729495 157.891239 \r\nL 261.258961 157.810731 \r\nL 262.788427 97.134919 \r\nL 264.317892 58.464487 \r\nL 265.847358 109.559908 \r\nL 267.376823 82.885093 \r\nL 268.906289 117.798508 \r\nL 270.435754 102.126383 \r\nL 271.96522 141.172516 \r\nL 275.024151 73.43888 \r\nL 276.553616 133.470633 \r\nL 278.083082 98.664561 \r\nL 279.612547 94.290321 \r\nL 281.142013 62.302011 \r\nL 282.671478 140.769979 \r\nL 284.200944 119.1403 \r\nL 285.730409 76.068792 \r\nL 287.259875 116.859254 \r\nL 288.78934 96.2225 \r\nL 290.318806 177.052022 \r\nL 291.848271 50.65526 \r\nL 293.377737 17.083636 \r\nL 294.907202 90.23811 \r\nL 296.436668 73.224194 \r\nL 297.966133 73.546224 \r\nL 299.495599 53.821888 \r\nL 301.025064 83.878018 \r\nL 302.55453 155.261327 \r\nL 304.083995 113.719462 \r\nL 305.613461 103.763369 \r\nL 307.142926 128.291318 \r\nL 308.672392 156.898313 \r\nL 310.201857 60.155144 \r\nL 311.731323 98.530382 \r\nL 313.260788 89.191513 \r\nL 314.790254 169.994198 \r\nL 316.319719 173.617036 \r\nL 317.849185 100.623577 \r\nL 319.37865 123.326689 \r\nL 320.908116 117.583821 \r\nL 322.437581 138.462098 \r\nL 325.496512 126.359138 \r\nL 327.025978 69.494013 \r\nL 328.555443 119.247643 \r\nL 330.084909 85.353989 \r\nL 331.614374 78.457181 \r\nL 333.14384 157.810731 \r\nL 334.673305 100.382054 \r\nL 336.202771 90.345454 \r\nL 337.732236 119.247643 \r\nL 339.261702 70.03073 \r\nL 340.791167 178.28647 \r\nL 342.320633 100.704084 \r\nL 343.850099 111.035879 \r\nL 345.379564 132.558215 \r\nL 346.90903 124.507466 \r\nL 348.438495 74.243955 \r\nL 349.967961 93.243723 \r\nL 351.497426 118.845106 \r\nL 353.026892 94.692858 \r\nL 354.556357 75.37106 \r\nL 356.085823 93.485246 \r\nL 357.615288 87.205661 \r\nL 359.144754 72.177596 \r\nL 360.674219 59.53792 \r\nL 362.203685 128.049795 \r\nL 363.73315 126.520153 \r\nL 365.262616 138.70362 \r\nL 366.792081 31.41397 \r\nL 368.321547 127.271556 \r\nL 369.851012 117.798508 \r\nL 371.380478 128.237646 \r\nL 372.909943 143.8561 \r\nL 372.909943 143.8561 \r\n\" style=\"fill:none;stroke:#1f77b4;stroke-linecap:square;stroke-width:1.5;\"/>\r\n   </g>\r\n   <g id=\"patch_3\">\r\n    <path d=\"M 53.328125 224.64 \r\nL 53.328125 7.2 \r\n\" style=\"fill:none;stroke:#000000;stroke-linecap:square;stroke-linejoin:miter;stroke-width:0.8;\"/>\r\n   </g>\r\n   <g id=\"patch_4\">\r\n    <path d=\"M 388.128125 224.64 \r\nL 388.128125 7.2 \r\n\" style=\"fill:none;stroke:#000000;stroke-linecap:square;stroke-linejoin:miter;stroke-width:0.8;\"/>\r\n   </g>\r\n   <g id=\"patch_5\">\r\n    <path d=\"M 53.328125 224.64 \r\nL 388.128125 224.64 \r\n\" style=\"fill:none;stroke:#000000;stroke-linecap:square;stroke-linejoin:miter;stroke-width:0.8;\"/>\r\n   </g>\r\n   <g id=\"patch_6\">\r\n    <path d=\"M 53.328125 7.2 \r\nL 388.128125 7.2 \r\n\" style=\"fill:none;stroke:#000000;stroke-linecap:square;stroke-linejoin:miter;stroke-width:0.8;\"/>\r\n   </g>\r\n  </g>\r\n </g>\r\n <defs>\r\n  <clipPath id=\"p802690eb78\">\r\n   <rect height=\"217.44\" width=\"334.8\" x=\"53.328125\" y=\"7.2\"/>\r\n  </clipPath>\r\n </defs>\r\n</svg>\r\n",
      "image/png": "[encoded data removed]"
     },
     "metadata": {
      "needs_background": "light"
     }
    }
   ],
   "source": [
    "lineplot = sns.lineplot(x='week',\n",
    "                        y='storeC',\n",
    "                        data=df_copy);"
   ]
  },
  {
   "cell_type": "code",
   "execution_count": 29,
   "metadata": {
    "scrolled": false
   },
   "outputs": [
    {
     "output_type": "execute_result",
     "data": {
      "text/plain": "          week  storeC\n0   2014-05-04    3893\n1   2014-05-11    5634\n2   2014-05-18    4253\n3   2014-05-25    8264\n4   2014-06-01    3208\n..         ...     ...\n195 2018-01-28    7759\n196 2018-02-04    4187\n197 2018-02-11    4540\n198 2018-02-18    4151\n199 2018-02-25    3569\n\n[200 rows x 2 columns]",
      "text/html": "<div>\n<style scoped>\n    .dataframe tbody tr th:only-of-type {\n        vertical-align: middle;\n    }\n\n    .dataframe tbody tr th {\n        vertical-align: top;\n    }\n\n    .dataframe thead th {\n        text-align: right;\n    }\n</style>\n<table border=\"1\" class=\"dataframe\">\n  <thead>\n    <tr style=\"text-align: right;\">\n      <th></th>\n      <th>week</th>\n      <th>storeC</th>\n    </tr>\n  </thead>\n  <tbody>\n    <tr>\n      <th>0</th>\n      <td>2014-05-04</td>\n      <td>3893</td>\n    </tr>\n    <tr>\n      <th>1</th>\n      <td>2014-05-11</td>\n      <td>5634</td>\n    </tr>\n    <tr>\n      <th>2</th>\n      <td>2014-05-18</td>\n      <td>4253</td>\n    </tr>\n    <tr>\n      <th>3</th>\n      <td>2014-05-25</td>\n      <td>8264</td>\n    </tr>\n    <tr>\n      <th>4</th>\n      <td>2014-06-01</td>\n      <td>3208</td>\n    </tr>\n    <tr>\n      <th>...</th>\n      <td>...</td>\n      <td>...</td>\n    </tr>\n    <tr>\n      <th>195</th>\n      <td>2018-01-28</td>\n      <td>7759</td>\n    </tr>\n    <tr>\n      <th>196</th>\n      <td>2018-02-04</td>\n      <td>4187</td>\n    </tr>\n    <tr>\n      <th>197</th>\n      <td>2018-02-11</td>\n      <td>4540</td>\n    </tr>\n    <tr>\n      <th>198</th>\n      <td>2018-02-18</td>\n      <td>4151</td>\n    </tr>\n    <tr>\n      <th>199</th>\n      <td>2018-02-25</td>\n      <td>3569</td>\n    </tr>\n  </tbody>\n</table>\n<p>200 rows × 2 columns</p>\n</div>"
     },
     "metadata": {},
     "execution_count": 29
    }
   ],
   "source": [
    "df_storeC = df_copy.loc[:,[\"week\",\"storeC\"]]\n",
    "df_storeC"
   ]
  },
  {
   "cell_type": "code",
   "execution_count": 30,
   "metadata": {
    "scrolled": false
   },
   "outputs": [
    {
     "output_type": "execute_result",
     "data": {
      "text/plain": "          week  storeC\n9   2014-07-06     927\n90  2016-01-24    2036\n11  2014-07-20    2104\n178 2017-10-01    2286\n145 2017-02-12    2332",
      "text/html": "<div>\n<style scoped>\n    .dataframe tbody tr th:only-of-type {\n        vertical-align: middle;\n    }\n\n    .dataframe tbody tr th {\n        vertical-align: top;\n    }\n\n    .dataframe thead th {\n        text-align: right;\n    }\n</style>\n<table border=\"1\" class=\"dataframe\">\n  <thead>\n    <tr style=\"text-align: right;\">\n      <th></th>\n      <th>week</th>\n      <th>storeC</th>\n    </tr>\n  </thead>\n  <tbody>\n    <tr>\n      <th>9</th>\n      <td>2014-07-06</td>\n      <td>927</td>\n    </tr>\n    <tr>\n      <th>90</th>\n      <td>2016-01-24</td>\n      <td>2036</td>\n    </tr>\n    <tr>\n      <th>11</th>\n      <td>2014-07-20</td>\n      <td>2104</td>\n    </tr>\n    <tr>\n      <th>178</th>\n      <td>2017-10-01</td>\n      <td>2286</td>\n    </tr>\n    <tr>\n      <th>145</th>\n      <td>2017-02-12</td>\n      <td>2332</td>\n    </tr>\n  </tbody>\n</table>\n</div>"
     },
     "metadata": {},
     "execution_count": 30
    }
   ],
   "source": [
    "least_sales = df_storeC.sort_values(by=[\"storeC\"]).head()\n",
    "least_sales"
   ]
  },
  {
   "cell_type": "code",
   "execution_count": 31,
   "metadata": {},
   "outputs": [
    {
     "output_type": "stream",
     "name": "stdout",
     "text": "2014-05-04 00:00:00\n"
    }
   ],
   "source": [
    "least_sales_week =  df_storeC.sort_values(by=[\"storeC\"]).loc[0, \"week\"]\n",
    "print(least_sales_week)"
   ]
  },
  {
   "cell_type": "code",
   "execution_count": 32,
   "metadata": {},
   "outputs": [
    {
     "output_type": "stream",
     "name": "stdout",
     "text": "\u001b[1mANSWER:\u001b[0mThe worst week of Store C occured on \u001b[1m2014-05-04 00:00:00\u001b[0m\n"
    }
   ],
   "source": [
    "print(\n",
    "    (\"\\033[1m\" + \"ANSWER:\" + \"\\033[0m\") \n",
    "    + \"The worst week of Store C occured on \" \n",
    "    + (\"\\033[1m\" + str(least_sales_week) + \"\\033[0m\")\n",
    "    )"
   ]
  },
  {
   "cell_type": "markdown",
   "metadata": {},
   "source": [
    "## <span style='color:red'>Question 5</span>: How much are the total sales from the most recent 3 months?"
   ]
  },
  {
   "cell_type": "markdown",
   "metadata": {},
   "source": [
    "1. Use 'monthly_sales'\n",
    "2. `Get the sum of the last three months' sales`"
   ]
  },
  {
   "cell_type": "code",
   "execution_count": 33,
   "metadata": {},
   "outputs": [
    {
     "output_type": "execute_result",
     "data": {
      "text/plain": "         storeA  storeB  storeC  storeD  storeE  total_sales\nmonth                                                       \n2017-12   40688   29151   30198   28422    8509       136968\n2018-01   21776   25648   19893   23985   11038       102340\n2018-02   25127   24595   16447   22783    7787        96739",
      "text/html": "<div>\n<style scoped>\n    .dataframe tbody tr th:only-of-type {\n        vertical-align: middle;\n    }\n\n    .dataframe tbody tr th {\n        vertical-align: top;\n    }\n\n    .dataframe thead th {\n        text-align: right;\n    }\n</style>\n<table border=\"1\" class=\"dataframe\">\n  <thead>\n    <tr style=\"text-align: right;\">\n      <th></th>\n      <th>storeA</th>\n      <th>storeB</th>\n      <th>storeC</th>\n      <th>storeD</th>\n      <th>storeE</th>\n      <th>total_sales</th>\n    </tr>\n    <tr>\n      <th>month</th>\n      <th></th>\n      <th></th>\n      <th></th>\n      <th></th>\n      <th></th>\n      <th></th>\n    </tr>\n  </thead>\n  <tbody>\n    <tr>\n      <th>2017-12</th>\n      <td>40688</td>\n      <td>29151</td>\n      <td>30198</td>\n      <td>28422</td>\n      <td>8509</td>\n      <td>136968</td>\n    </tr>\n    <tr>\n      <th>2018-01</th>\n      <td>21776</td>\n      <td>25648</td>\n      <td>19893</td>\n      <td>23985</td>\n      <td>11038</td>\n      <td>102340</td>\n    </tr>\n    <tr>\n      <th>2018-02</th>\n      <td>25127</td>\n      <td>24595</td>\n      <td>16447</td>\n      <td>22783</td>\n      <td>7787</td>\n      <td>96739</td>\n    </tr>\n  </tbody>\n</table>\n</div>"
     },
     "metadata": {},
     "execution_count": 33
    }
   ],
   "source": [
    "monthly_sales.iloc[-3:,:]"
   ]
  },
  {
   "cell_type": "code",
   "execution_count": 34,
   "metadata": {},
   "outputs": [
    {
     "output_type": "execute_result",
     "data": {
      "text/plain": "336047"
     },
     "metadata": {},
     "execution_count": 34
    }
   ],
   "source": [
    "last_3month_sales = monthly_sales.iloc[-3:,5].sum(axis=0)\n",
    "last_3month_sales"
   ]
  },
  {
   "cell_type": "code",
   "execution_count": 35,
   "metadata": {},
   "outputs": [
    {
     "output_type": "stream",
     "name": "stdout",
     "text": "\u001b[1mANSWER:\u001b[0mThe total sales of the last three months is \u001b[1m336047\u001b[0m sales\n"
    }
   ],
   "source": [
    "print(\n",
    "    (\"\\033[1m\" + \"ANSWER:\" + \"\\033[0m\") \n",
    "    + \"The total sales of the last three months is \" \n",
    "    + (\"\\033[1m\" + str(last_3month_sales) + \"\\033[0m\") \n",
    "    + \" sales\")"
   ]
  },
  {
   "cell_type": "markdown",
   "metadata": {},
   "source": [
    "#######################################################################"
   ]
  },
  {
   "cell_type": "markdown",
   "metadata": {},
   "source": [
    "#######################################################################"
   ]
  },
  {
   "cell_type": "code",
   "execution_count": 36,
   "metadata": {},
   "outputs": [
    {
     "output_type": "execute_result",
     "data": {
      "text/plain": "        week  storeA  storeB  storeC  storeD  storeE    month\n0 2014-05-04    2643    8257    3893    6231    1294  2014-05\n1 2014-05-11    6444    5736    5634    7092    2907  2014-05\n2 2014-05-18    9646    2552    4253    5447    4736  2014-05\n3 2014-05-25    5960   10740    8264    6063     949  2014-05\n4 2014-06-01    7412    7374    3208    3985    3023  2014-06",
      "text/html": "<div>\n<style scoped>\n    .dataframe tbody tr th:only-of-type {\n        vertical-align: middle;\n    }\n\n    .dataframe tbody tr th {\n        vertical-align: top;\n    }\n\n    .dataframe thead th {\n        text-align: right;\n    }\n</style>\n<table border=\"1\" class=\"dataframe\">\n  <thead>\n    <tr style=\"text-align: right;\">\n      <th></th>\n      <th>week</th>\n      <th>storeA</th>\n      <th>storeB</th>\n      <th>storeC</th>\n      <th>storeD</th>\n      <th>storeE</th>\n      <th>month</th>\n    </tr>\n  </thead>\n  <tbody>\n    <tr>\n      <th>0</th>\n      <td>2014-05-04</td>\n      <td>2643</td>\n      <td>8257</td>\n      <td>3893</td>\n      <td>6231</td>\n      <td>1294</td>\n      <td>2014-05</td>\n    </tr>\n    <tr>\n      <th>1</th>\n      <td>2014-05-11</td>\n      <td>6444</td>\n      <td>5736</td>\n      <td>5634</td>\n      <td>7092</td>\n      <td>2907</td>\n      <td>2014-05</td>\n    </tr>\n    <tr>\n      <th>2</th>\n      <td>2014-05-18</td>\n      <td>9646</td>\n      <td>2552</td>\n      <td>4253</td>\n      <td>5447</td>\n      <td>4736</td>\n      <td>2014-05</td>\n    </tr>\n    <tr>\n      <th>3</th>\n      <td>2014-05-25</td>\n      <td>5960</td>\n      <td>10740</td>\n      <td>8264</td>\n      <td>6063</td>\n      <td>949</td>\n      <td>2014-05</td>\n    </tr>\n    <tr>\n      <th>4</th>\n      <td>2014-06-01</td>\n      <td>7412</td>\n      <td>7374</td>\n      <td>3208</td>\n      <td>3985</td>\n      <td>3023</td>\n      <td>2014-06</td>\n    </tr>\n  </tbody>\n</table>\n</div>"
     },
     "metadata": {},
     "execution_count": 36
    }
   ],
   "source": [
    "df_copy.head()"
   ]
  },
  {
   "cell_type": "code",
   "execution_count": 56,
   "metadata": {},
   "outputs": [],
   "source": [
    "df_datetime = df_copy.copy()"
   ]
  },
  {
   "cell_type": "code",
   "execution_count": 87,
   "metadata": {},
   "outputs": [
    {
     "output_type": "execute_result",
     "data": {
      "text/plain": "            storeA  storeB  storeC  storeD  storeE\nweek                                              \n2014-05-04    2643    8257    3893    6231    1294\n2014-05-11    6444    5736    5634    7092    2907\n2014-05-18    9646    2552    4253    5447    4736\n2014-05-25    5960   10740    8264    6063     949\n2014-06-01    7412    7374    3208    3985    3023",
      "text/html": "<div>\n<style scoped>\n    .dataframe tbody tr th:only-of-type {\n        vertical-align: middle;\n    }\n\n    .dataframe tbody tr th {\n        vertical-align: top;\n    }\n\n    .dataframe thead th {\n        text-align: right;\n    }\n</style>\n<table border=\"1\" class=\"dataframe\">\n  <thead>\n    <tr style=\"text-align: right;\">\n      <th></th>\n      <th>storeA</th>\n      <th>storeB</th>\n      <th>storeC</th>\n      <th>storeD</th>\n      <th>storeE</th>\n    </tr>\n    <tr>\n      <th>week</th>\n      <th></th>\n      <th></th>\n      <th></th>\n      <th></th>\n      <th></th>\n    </tr>\n  </thead>\n  <tbody>\n    <tr>\n      <th>2014-05-04</th>\n      <td>2643</td>\n      <td>8257</td>\n      <td>3893</td>\n      <td>6231</td>\n      <td>1294</td>\n    </tr>\n    <tr>\n      <th>2014-05-11</th>\n      <td>6444</td>\n      <td>5736</td>\n      <td>5634</td>\n      <td>7092</td>\n      <td>2907</td>\n    </tr>\n    <tr>\n      <th>2014-05-18</th>\n      <td>9646</td>\n      <td>2552</td>\n      <td>4253</td>\n      <td>5447</td>\n      <td>4736</td>\n    </tr>\n    <tr>\n      <th>2014-05-25</th>\n      <td>5960</td>\n      <td>10740</td>\n      <td>8264</td>\n      <td>6063</td>\n      <td>949</td>\n    </tr>\n    <tr>\n      <th>2014-06-01</th>\n      <td>7412</td>\n      <td>7374</td>\n      <td>3208</td>\n      <td>3985</td>\n      <td>3023</td>\n    </tr>\n  </tbody>\n</table>\n</div>"
     },
     "metadata": {},
     "execution_count": 87
    }
   ],
   "source": [
    "df_datetime.head()"
   ]
  },
  {
   "cell_type": "markdown",
   "metadata": {},
   "source": [
    "# Simple answers to:\n",
    "1. What is the total sales for the last month?\n",
    "2. What is the average sales across all stores?\n",
    "3. What is the sales on March 13, 2016?\n",
    "4. When is worst week of Store C?\n",
    "5. How much are the total sales from the most recent 3 months?"
   ]
  },
  {
   "cell_type": "code",
   "execution_count": 162,
   "metadata": {},
   "outputs": [
    {
     "output_type": "execute_result",
     "data": {
      "text/plain": "96739"
     },
     "metadata": {},
     "execution_count": 162
    }
   ],
   "source": [
    "totsales_lastmonth = df_datetime.resample('m').sum().tail(1).sum(axis=1).sum()\n",
    "totsales_lastmonth"
   ]
  },
  {
   "cell_type": "code",
   "execution_count": 167,
   "metadata": {},
   "outputs": [
    {
     "output_type": "execute_result",
     "data": {
      "text/plain": "5115.14"
     },
     "metadata": {},
     "execution_count": 167
    }
   ],
   "source": [
    "avsales = df_datetime.mean().mean().round(2)\n",
    "avsales"
   ]
  },
  {
   "cell_type": "code",
   "execution_count": 164,
   "metadata": {},
   "outputs": [
    {
     "output_type": "execute_result",
     "data": {
      "text/plain": "16605"
     },
     "metadata": {},
     "execution_count": 164
    }
   ],
   "source": [
    "sales_20160313 = df_datetime.loc['2016-03-13'].sum()\n",
    "sales_20160313"
   ]
  },
  {
   "cell_type": "code",
   "execution_count": 165,
   "metadata": {},
   "outputs": [
    {
     "output_type": "execute_result",
     "data": {
      "text/plain": "            storeC\nweek              \n2014-07-06     927",
      "text/html": "<div>\n<style scoped>\n    .dataframe tbody tr th:only-of-type {\n        vertical-align: middle;\n    }\n\n    .dataframe tbody tr th {\n        vertical-align: top;\n    }\n\n    .dataframe thead th {\n        text-align: right;\n    }\n</style>\n<table border=\"1\" class=\"dataframe\">\n  <thead>\n    <tr style=\"text-align: right;\">\n      <th></th>\n      <th>storeC</th>\n    </tr>\n    <tr>\n      <th>week</th>\n      <th></th>\n    </tr>\n  </thead>\n  <tbody>\n    <tr>\n      <th>2014-07-06</th>\n      <td>927</td>\n    </tr>\n  </tbody>\n</table>\n</div>"
     },
     "metadata": {},
     "execution_count": 165
    }
   ],
   "source": [
    "leastsales_storeC = df_datetime.loc[:, ['storeC']].sort_values(by=['storeC'], ascending=True).head(1)\n",
    "leastsales_storeC"
   ]
  },
  {
   "cell_type": "code",
   "execution_count": 166,
   "metadata": {},
   "outputs": [
    {
     "output_type": "execute_result",
     "data": {
      "text/plain": "336047"
     },
     "metadata": {},
     "execution_count": 166
    }
   ],
   "source": [
    "totsales_last3month = df_datetime.resample('m').sum().tail(3).sum(axis=1).sum()\n",
    "totsales_last3month"
   ]
  }
 ],
 "metadata": {
  "kernelspec": {
   "display_name": "Python 3.7.6 64-bit ('jlml': conda)",
   "language": "python",
   "name": "python37664bitjlmlconda823288ade10744eab27a13100ebb26e4"
  },
  "language_info": {
   "codemirror_mode": {
    "name": "ipython",
    "version": 3
   },
   "file_extension": ".py",
   "mimetype": "text/x-python",
   "name": "python",
   "nbconvert_exporter": "python",
   "pygments_lexer": "ipython3",
   "version": "3.7.6-final"
  }
 },
 "nbformat": 4,
 "nbformat_minor": 4
}