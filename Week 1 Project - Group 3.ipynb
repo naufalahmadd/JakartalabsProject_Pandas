{
 "cells": [
  {
   "cell_type": "markdown",
   "metadata": {},
   "source": [
    "# **Group 3 Project: store_data.csv**"
   ]
  },
  {
   "cell_type": "markdown",
   "metadata": {},
   "source": [
    "## Table of Contents"
   ]
  },
  {
   "cell_type": "markdown",
   "metadata": {},
   "source": [
    "<ul>\n",
    "<li><a href=\"#intro\">Introduction</a></li>\n",
    "<li><a href=\"#wrangle\">Data Wrangling</a></li>\n",
    "<li><a href=\"#eda\">Exploratory Data Analysis</a></li>\n",
    "<li><a href=\"#conclude\">Conclusion</a></li>\n",
    "</ul>"
   ]
  },
  {
   "cell_type": "markdown",
   "metadata": {},
   "source": [
    "## Introduction"
   ]
  },
  {
   "cell_type": "markdown",
   "metadata": {},
   "source": [
    "`Store_data.csv` is a dataset that stores the daily sales of five stores, namely storeA, storeB, storeC, and StoreD. This dataset is collected for four years from 2014 to 2018. Some questions that can be explored from this dataset are:\n",
    "1. What is the total sales for the last month?\n",
    "2. What is the average sales across all stores?\n",
    "3. What is the sales on March 13, 2016?\n",
    "4. When is worst week of Store C?\n",
    "5. How much are the total sales from the most recent 3 months?"
   ]
  },
  {
   "cell_type": "markdown",
   "metadata": {},
   "source": [
    "## Data Wrangling"
   ]
  },
  {
   "cell_type": "markdown",
   "metadata": {},
   "source": [
    "### 1. Importing packages"
   ]
  },
  {
   "cell_type": "code",
   "execution_count": 1,
   "metadata": {},
   "outputs": [],
   "source": [
    "import pandas as pd\n",
    "import matplotlib.pyplot as plt\n",
    "import seaborn as sns\n",
    "import datetime as dt\n",
    "from pandas.plotting import register_matplotlib_converters\n",
    "register_matplotlib_converters()"
   ]
  },
  {
   "cell_type": "markdown",
   "metadata": {},
   "source": [
    "### 2. Gathering the data"
   ]
  },
  {
   "cell_type": "code",
   "execution_count": 2,
   "metadata": {},
   "outputs": [
    {
     "output_type": "execute_result",
     "data": {
      "text/plain": "         week  storeA  storeB  storeC  storeD  storeE\n0  2014-05-04    2643    8257    3893    6231    1294\n1  2014-05-11    6444    5736    5634    7092    2907\n2  2014-05-18    9646    2552    4253    5447    4736\n3  2014-05-25    5960   10740    8264    6063     949\n4  2014-06-01    7412    7374    3208    3985    3023",
      "text/html": "<div>\n<style scoped>\n    .dataframe tbody tr th:only-of-type {\n        vertical-align: middle;\n    }\n\n    .dataframe tbody tr th {\n        vertical-align: top;\n    }\n\n    .dataframe thead th {\n        text-align: right;\n    }\n</style>\n<table border=\"1\" class=\"dataframe\">\n  <thead>\n    <tr style=\"text-align: right;\">\n      <th></th>\n      <th>week</th>\n      <th>storeA</th>\n      <th>storeB</th>\n      <th>storeC</th>\n      <th>storeD</th>\n      <th>storeE</th>\n    </tr>\n  </thead>\n  <tbody>\n    <tr>\n      <th>0</th>\n      <td>2014-05-04</td>\n      <td>2643</td>\n      <td>8257</td>\n      <td>3893</td>\n      <td>6231</td>\n      <td>1294</td>\n    </tr>\n    <tr>\n      <th>1</th>\n      <td>2014-05-11</td>\n      <td>6444</td>\n      <td>5736</td>\n      <td>5634</td>\n      <td>7092</td>\n      <td>2907</td>\n    </tr>\n    <tr>\n      <th>2</th>\n      <td>2014-05-18</td>\n      <td>9646</td>\n      <td>2552</td>\n      <td>4253</td>\n      <td>5447</td>\n      <td>4736</td>\n    </tr>\n    <tr>\n      <th>3</th>\n      <td>2014-05-25</td>\n      <td>5960</td>\n      <td>10740</td>\n      <td>8264</td>\n      <td>6063</td>\n      <td>949</td>\n    </tr>\n    <tr>\n      <th>4</th>\n      <td>2014-06-01</td>\n      <td>7412</td>\n      <td>7374</td>\n      <td>3208</td>\n      <td>3985</td>\n      <td>3023</td>\n    </tr>\n  </tbody>\n</table>\n</div>"
     },
     "metadata": {},
     "execution_count": 2
    }
   ],
   "source": [
    "df = pd.read_csv('store_data.csv')\n",
    "df.head()"
   ]
  },
  {
   "cell_type": "markdown",
   "metadata": {},
   "source": [
    "### 3. Assess for possible problems"
   ]
  },
  {
   "cell_type": "code",
   "execution_count": 3,
   "metadata": {},
   "outputs": [
    {
     "output_type": "execute_result",
     "data": {
      "text/plain": "(200, 6)"
     },
     "metadata": {},
     "execution_count": 3
    }
   ],
   "source": [
    "df.shape"
   ]
  },
  {
   "cell_type": "code",
   "execution_count": 4,
   "metadata": {},
   "outputs": [
    {
     "output_type": "stream",
     "name": "stdout",
     "text": "<class 'pandas.core.frame.DataFrame'>\nRangeIndex: 200 entries, 0 to 199\nData columns (total 6 columns):\nweek      200 non-null object\nstoreA    200 non-null int64\nstoreB    200 non-null int64\nstoreC    200 non-null int64\nstoreD    200 non-null int64\nstoreE    200 non-null int64\ndtypes: int64(5), object(1)\nmemory usage: 9.5+ KB\n"
    }
   ],
   "source": [
    "df.info()"
   ]
  },
  {
   "cell_type": "markdown",
   "metadata": {},
   "source": [
    "> From this step, several insights regarding the dataset can be obtained. (1) It has 200 rows and 6 columns, meaning that, for each store, daily sales are recorder for 200 days, (2) 'Week' column shows the date when the sales are recorded and the data type is 'object', and (3) Other columns aside of 'week' show the daily sales recorded in each store and the data type is 'integer.'\n",
    "\n",
    "> Another important insight acquired from this step is that all total observations for each column are 200 observations. This implies that there is no missing values in the dataset. There is also no duplicate value in every columns.\n",
    "\n",
    "> There is one potential problem, though, in the 'week' column, the data format is 'object.' In order to conduct time-series analysis, it will be more convenient to tell Pandas that this column is a time indicator."
   ]
  },
  {
   "cell_type": "markdown",
   "metadata": {},
   "source": [
    "### 4. Cleaning the dataset"
   ]
  },
  {
   "cell_type": "code",
   "execution_count": 5,
   "metadata": {},
   "outputs": [],
   "source": [
    "# Convert 'week' colum to 'datetime'-type data.\n",
    "df_copy = df.copy()"
   ]
  },
  {
   "cell_type": "code",
   "execution_count": 6,
   "metadata": {},
   "outputs": [
    {
     "output_type": "stream",
     "name": "stdout",
     "text": "<class 'pandas.core.frame.DataFrame'>\nRangeIndex: 200 entries, 0 to 199\nData columns (total 6 columns):\nweek      200 non-null datetime64[ns]\nstoreA    200 non-null int64\nstoreB    200 non-null int64\nstoreC    200 non-null int64\nstoreD    200 non-null int64\nstoreE    200 non-null int64\ndtypes: datetime64[ns](1), int64(5)\nmemory usage: 9.5 KB\n"
    }
   ],
   "source": [
    "df_copy['week'] = pd.to_datetime(df_copy['week'], format='%Y-%m-%d')\n",
    "df_copy.info()"
   ]
  },
  {
   "cell_type": "markdown",
   "metadata": {},
   "source": [
    "> Now, the 'week' column is in 'datetime' format."
   ]
  },
  {
   "cell_type": "markdown",
   "metadata": {},
   "source": [
    "## Data Exploring"
   ]
  },
  {
   "cell_type": "code",
   "execution_count": null,
   "metadata": {},
   "outputs": [],
   "source": []
  }
 ],
 "metadata": {
  "kernelspec": {
   "display_name": "Python 3.7.6 64-bit ('jlml': conda)",
   "language": "python",
   "name": "python37664bitjlmlconda823288ade10744eab27a13100ebb26e4"
  },
  "language_info": {
   "codemirror_mode": {
    "name": "ipython",
    "version": 3
   },
   "file_extension": ".py",
   "mimetype": "text/x-python",
   "name": "python",
   "nbconvert_exporter": "python",
   "pygments_lexer": "ipython3",
   "version": "3.7.6-final"
  }
 },
 "nbformat": 4,
 "nbformat_minor": 4
}