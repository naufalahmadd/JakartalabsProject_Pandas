{
 "cells": [
  {
   "cell_type": "markdown",
   "metadata": {},
   "source": [
    "# QUESTIONS:\n",
    "1. What is the total sales for the last month?\n",
    "2. What is the average sales across all stores?\n",
    "3. What is the sales on March 13, 2016?\n",
    "4. When is worst week of Store C?\n",
    "5. How much are the total sales from the most recent 3 months?"
   ]
  },
  {
   "cell_type": "markdown",
   "metadata": {},
   "source": [
    "## Preparing Workspace"
   ]
  },
  {
   "cell_type": "code",
   "execution_count": 3,
   "metadata": {},
   "outputs": [],
   "source": [
    "import pandas as pd\n",
    "import matplotlib.pyplot as plt\n",
    "import seaborn as sns\n",
    "import datetime as dt\n",
    "from pandas.plotting import register_matplotlib_converters\n",
    "register_matplotlib_converters()"
   ]
  },
  {
   "cell_type": "code",
   "execution_count": 4,
   "metadata": {},
   "outputs": [],
   "source": [
    "df = pd.read_csv('store_data.csv')\n",
    "df_copy = df.copy()"
   ]
  },
  {
   "cell_type": "markdown",
   "metadata": {},
   "source": [
    "## Data Cleaning"
   ]
  },
  {
   "cell_type": "code",
   "execution_count": 5,
   "metadata": {},
   "outputs": [
    {
     "output_type": "execute_result",
     "data": {
      "text/plain": "         week  storeA  storeB  storeC  storeD  storeE\n0  2014-05-04    2643    8257    3893    6231    1294\n1  2014-05-11    6444    5736    5634    7092    2907\n2  2014-05-18    9646    2552    4253    5447    4736\n3  2014-05-25    5960   10740    8264    6063     949\n4  2014-06-01    7412    7374    3208    3985    3023",
      "text/html": "<div>\n<style scoped>\n    .dataframe tbody tr th:only-of-type {\n        vertical-align: middle;\n    }\n\n    .dataframe tbody tr th {\n        vertical-align: top;\n    }\n\n    .dataframe thead th {\n        text-align: right;\n    }\n</style>\n<table border=\"1\" class=\"dataframe\">\n  <thead>\n    <tr style=\"text-align: right;\">\n      <th></th>\n      <th>week</th>\n      <th>storeA</th>\n      <th>storeB</th>\n      <th>storeC</th>\n      <th>storeD</th>\n      <th>storeE</th>\n    </tr>\n  </thead>\n  <tbody>\n    <tr>\n      <th>0</th>\n      <td>2014-05-04</td>\n      <td>2643</td>\n      <td>8257</td>\n      <td>3893</td>\n      <td>6231</td>\n      <td>1294</td>\n    </tr>\n    <tr>\n      <th>1</th>\n      <td>2014-05-11</td>\n      <td>6444</td>\n      <td>5736</td>\n      <td>5634</td>\n      <td>7092</td>\n      <td>2907</td>\n    </tr>\n    <tr>\n      <th>2</th>\n      <td>2014-05-18</td>\n      <td>9646</td>\n      <td>2552</td>\n      <td>4253</td>\n      <td>5447</td>\n      <td>4736</td>\n    </tr>\n    <tr>\n      <th>3</th>\n      <td>2014-05-25</td>\n      <td>5960</td>\n      <td>10740</td>\n      <td>8264</td>\n      <td>6063</td>\n      <td>949</td>\n    </tr>\n    <tr>\n      <th>4</th>\n      <td>2014-06-01</td>\n      <td>7412</td>\n      <td>7374</td>\n      <td>3208</td>\n      <td>3985</td>\n      <td>3023</td>\n    </tr>\n  </tbody>\n</table>\n</div>"
     },
     "metadata": {},
     "execution_count": 5
    }
   ],
   "source": [
    "df_copy.head()"
   ]
  },
  {
   "cell_type": "code",
   "execution_count": 6,
   "metadata": {},
   "outputs": [],
   "source": [
    "df_copy['week'] = pd.to_datetime(df_copy['week'], format='%Y-%m-%d')"
   ]
  },
  {
   "cell_type": "code",
   "execution_count": 7,
   "metadata": {},
   "outputs": [],
   "source": [
    "df_datetime = df_copy.set_index('week')"
   ]
  },
  {
   "cell_type": "markdown",
   "metadata": {},
   "source": [
    "## Question 1: What is the total sales for the last month?"
   ]
  },
  {
   "cell_type": "code",
   "execution_count": 8,
   "metadata": {},
   "outputs": [
    {
     "output_type": "execute_result",
     "data": {
      "text/plain": "96739"
     },
     "metadata": {},
     "execution_count": 8
    }
   ],
   "source": [
    "totsales_lastmonth = df_datetime.resample('m').sum().tail(1).sum(axis=1).sum()\n",
    "totsales_lastmonth"
   ]
  },
  {
   "cell_type": "markdown",
   "metadata": {},
   "source": [
    "## Question 2: What is the average sales across all stores?"
   ]
  },
  {
   "cell_type": "code",
   "execution_count": 9,
   "metadata": {},
   "outputs": [
    {
     "output_type": "execute_result",
     "data": {
      "text/plain": "5115.14"
     },
     "metadata": {},
     "execution_count": 9
    }
   ],
   "source": [
    "avsales = df_datetime.mean().mean().round(2)\n",
    "avsales"
   ]
  },
  {
   "cell_type": "markdown",
   "metadata": {},
   "source": [
    "## Question 3: What is the sales on March 13, 2016?"
   ]
  },
  {
   "cell_type": "code",
   "execution_count": 10,
   "metadata": {},
   "outputs": [
    {
     "output_type": "execute_result",
     "data": {
      "text/plain": "16605"
     },
     "metadata": {},
     "execution_count": 10
    }
   ],
   "source": [
    "sales_20160313 = df_datetime.loc['2016-03-13'].sum()\n",
    "sales_20160313"
   ]
  },
  {
   "cell_type": "markdown",
   "metadata": {},
   "source": [
    "## Question 4: When is worst week of Store C?"
   ]
  },
  {
   "cell_type": "code",
   "execution_count": 11,
   "metadata": {},
   "outputs": [
    {
     "output_type": "execute_result",
     "data": {
      "text/plain": "            storeC\nweek              \n2014-07-06     927",
      "text/html": "<div>\n<style scoped>\n    .dataframe tbody tr th:only-of-type {\n        vertical-align: middle;\n    }\n\n    .dataframe tbody tr th {\n        vertical-align: top;\n    }\n\n    .dataframe thead th {\n        text-align: right;\n    }\n</style>\n<table border=\"1\" class=\"dataframe\">\n  <thead>\n    <tr style=\"text-align: right;\">\n      <th></th>\n      <th>storeC</th>\n    </tr>\n    <tr>\n      <th>week</th>\n      <th></th>\n    </tr>\n  </thead>\n  <tbody>\n    <tr>\n      <th>2014-07-06</th>\n      <td>927</td>\n    </tr>\n  </tbody>\n</table>\n</div>"
     },
     "metadata": {},
     "execution_count": 11
    }
   ],
   "source": [
    "leastsales_storeC = df_datetime.loc[:, ['storeC']].sort_values(by=['storeC'], ascending=True).head(1)\n",
    "leastsales_storeC"
   ]
  },
  {
   "cell_type": "markdown",
   "metadata": {},
   "source": [
    "## Quetion 5: How much are the total sales from the most recent 3 months?"
   ]
  },
  {
   "cell_type": "code",
   "execution_count": 12,
   "metadata": {},
   "outputs": [
    {
     "output_type": "execute_result",
     "data": {
      "text/plain": "336047"
     },
     "metadata": {},
     "execution_count": 12
    }
   ],
   "source": [
    "totsales_last3month = df_datetime.resample('m').sum().tail(3).sum(axis=1).sum()\n",
    "totsales_last3month"
   ]
  },
  {
   "cell_type": "code",
   "execution_count": null,
   "metadata": {},
   "outputs": [],
   "source": []
  }
 ],
 "metadata": {
  "language_info": {
   "codemirror_mode": {
    "name": "ipython",
    "version": 3
   },
   "file_extension": ".py",
   "mimetype": "text/x-python",
   "name": "python",
   "nbconvert_exporter": "python",
   "pygments_lexer": "ipython3",
   "version": "3.7.6-final"
  },
  "orig_nbformat": 2,
  "kernelspec": {
   "name": "python37664bitjlmlconda823288ade10744eab27a13100ebb26e4",
   "display_name": "Python 3.7.6 64-bit ('jlml': conda)"
  }
 },
 "nbformat": 4,
 "nbformat_minor": 2
}